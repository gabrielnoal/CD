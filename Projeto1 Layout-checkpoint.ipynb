{
 "cells": [
  {
   "cell_type": "markdown",
   "metadata": {},
   "source": [
    "___\n",
    "# PROJETO 1"
   ]
  },
  {
   "cell_type": "markdown",
   "metadata": {},
   "source": [
    "## <font color='red'>Gabriel Noal</font>\n",
    "___"
   ]
  },
  {
   "cell_type": "markdown",
   "metadata": {},
   "source": [
    "## <font color='blue'>TÍTULO DO SEU PROJETO</font>"
   ]
  },
  {
   "cell_type": "markdown",
   "metadata": {},
   "source": [
    "## Introdução\n",
    "\n",
    "Hoje sabemos que para garantir uma boa aposentadoria no futuro é nescessario estudar muito ao longo da vida, através de analise de dados da PNAD 2014 verificaremos se isso é verdade ou não\n"
   ]
  },
  {
   "cell_type": "markdown",
   "metadata": {},
   "source": [
    "___\n",
    "## Análise e Resultados"
   ]
  },
  {
   "cell_type": "code",
   "execution_count": 198,
   "metadata": {
    "collapsed": true
   },
   "outputs": [],
   "source": [
    "%matplotlib inline\n",
    "import pandas as pd\n",
    "import matplotlib.pyplot as plt\n",
    "import numpy as np\n",
    "import os"
   ]
  },
  {
   "cell_type": "code",
   "execution_count": 199,
   "metadata": {
    "collapsed": false
   },
   "outputs": [
    {
     "name": "stdout",
     "output_type": "stream",
     "text": [
      "Esperamos trabalhar no diretório\n",
      "C:\\Users\\Usuario\\Documents\\Ciencia dos Dados\\Projeto1\n"
     ]
    }
   ],
   "source": [
    "print('Esperamos trabalhar no diretório')\n",
    "print(os.getcwd())"
   ]
  },
  {
   "cell_type": "code",
   "execution_count": 200,
   "metadata": {
    "collapsed": false
   },
   "outputs": [],
   "source": [
    "\"\"\"Vamos ler a estrutura da PNAD como um dataframe.\n",
    "    São muitas colunas e precisamos usar a informação de tamanho para ler a PNAD de fato\n",
    "    como uma base de tamanho fixo\"\"\"\n",
    "estrutura = pd.read_table(\"pes_py.txt\", sep=\";\")"
   ]
  },
  {
   "cell_type": "code",
   "execution_count": 201,
   "metadata": {
    "collapsed": false,
    "scrolled": true
   },
   "outputs": [],
   "source": [
    "#estrutura.head()"
   ]
  },
  {
   "cell_type": "code",
   "execution_count": 202,
   "metadata": {
    "collapsed": false
   },
   "outputs": [],
   "source": [
    "# Se quiser uma leitura mais rápida, use o arquivo descompactado. Não esqueça de adicionar ao seu .gitignore\n",
    "dados = pd.read_fwf(\"PES2014.txt\", widths=estrutura.Tamanho, header=None)\n",
    "\n",
    "# Se quiser economizar espaço, use o arquivo Zip\n",
    "#dados = pd.read_fwf(\"PES2014.zip\", widths=estrutura.Tamanho, header=None, compression=\"zip\")"
   ]
  },
  {
   "cell_type": "code",
   "execution_count": 203,
   "metadata": {
    "collapsed": false
   },
   "outputs": [],
   "source": [
    "#dados.head()"
   ]
  },
  {
   "cell_type": "code",
   "execution_count": 204,
   "metadata": {
    "collapsed": false
   },
   "outputs": [
    {
     "data": {
      "text/plain": [
       "Index(['Coluna', 'Tamanho', 'Título'], dtype='object')"
      ]
     },
     "execution_count": 204,
     "metadata": {},
     "output_type": "execute_result"
    }
   ],
   "source": [
    "estrutura.columns"
   ]
  },
  {
   "cell_type": "code",
   "execution_count": 205,
   "metadata": {
    "collapsed": false
   },
   "outputs": [],
   "source": [
    "dados.columns = estrutura.Coluna"
   ]
  },
  {
   "cell_type": "code",
   "execution_count": 206,
   "metadata": {
    "collapsed": false,
    "scrolled": true
   },
   "outputs": [],
   "source": [
    "#dados.head()"
   ]
  },
  {
   "cell_type": "code",
   "execution_count": 207,
   "metadata": {
    "collapsed": true
   },
   "outputs": [],
   "source": [
    "'''Renomeando'''\n",
    "dados.rename(columns={\"V9122\":\"APOSENTADO\"}, inplace=True)\n",
    "dados.rename(columns={\"V8005\":\"IDADE\"}, inplace=True)\n",
    "dados.rename(columns={\"V0302\":\"SEXO\"}, inplace=True)\n",
    "dados.rename(columns={\"V0404\":\"COR OU RAÇA\"}, inplace=True)\n",
    "dados.rename(columns={\"V6002\":\"REDE DE ENSINO\"}, inplace=True)\n",
    "dados.rename(columns={\"V4802\":\"NÍVEL DE ENSINO E GRUPOS DE SÉRIES DO ENSINO FUNDAMENTAL QUE FREQUENTAVAM (TODOS OS ESTUDANTES)\"}, inplace=True)\n",
    "dados.rename(columns={\"V5030\":\"LUGAR DE NASCIMENTO\"}, inplace=True)\n",
    "dados.rename(columns={'V4742':'RENDA MENSAL'},inplace=True)\n",
    "dados.rename(columns={'V1252':'APOSENTADORIA'},inplace=True)\n",
    "dados.rename(columns={'V4803':'Anos de estudo'},inplace=True)\n",
    "\n",
    "'''Criando Região'''\n",
    "\n",
    "dados[\"REGIAO\"] = dados[\"UF\"]"
   ]
  },
  {
   "cell_type": "code",
   "execution_count": 208,
   "metadata": {
    "collapsed": false
   },
   "outputs": [],
   "source": [
    "'''Classificado como Qualitativa ou quantitatva'''\n",
    "dados[\"APOSENTADO\"] = dados[\"APOSENTADO\"].astype(\"category\")\n",
    "dados[\"SEXO\"] = dados[\"SEXO\"].astype(\"category\")\n",
    "dados[\"COR OU RAÇA\"] = dados[\"COR OU RAÇA\"].astype(\"category\")\n",
    "dados[\"REDE DE ENSINO\"] = dados[\"REDE DE ENSINO\"].astype(\"category\")\n",
    "dados[\"NÍVEL DE ENSINO E GRUPOS DE SÉRIES DO ENSINO FUNDAMENTAL QUE FREQUENTAVAM (TODOS OS ESTUDANTES)\"] = dados[\"NÍVEL DE ENSINO E GRUPOS DE SÉRIES DO ENSINO FUNDAMENTAL QUE FREQUENTAVAM (TODOS OS ESTUDANTES)\"].astype('category')\n",
    "dados[\"UF\"] = dados[\"UF\"].astype('category', ordered=True)\n",
    "dados['Anos de estudo'] = dados['Anos de estudo'].astype('category')\n",
    "\n",
    "\n",
    "dados.loc[(dados.UF <= 17),'REGIÃO'] = \"Norte\"\n",
    "dados.loc[(dados.UF > 17) & (dados.UF <= 29),'REGIÃO'] = \"Nordeste\"\n",
    "dados.loc[(dados.UF <= 31) & (dados.UF <= 35),'REGIÃO'] = \"Sudeste\"\n",
    "dados.loc[(dados.UF <= 41) & (dados.UF <= 43),'REGIÃO'] = \"Sul\"\n",
    "dados.loc[(dados.UF > 43),'REGIÃO'] = \"Centro-Oeste\""
   ]
  },
  {
   "cell_type": "code",
   "execution_count": 209,
   "metadata": {
    "collapsed": false
   },
   "outputs": [
    {
     "data": {
      "text/html": [
       "<div>\n",
       "<table border=\"1\" class=\"dataframe\">\n",
       "  <thead>\n",
       "    <tr style=\"text-align: right;\">\n",
       "      <th>Coluna</th>\n",
       "      <th>V0101</th>\n",
       "      <th>UF</th>\n",
       "      <th>V0102</th>\n",
       "      <th>V0103</th>\n",
       "      <th>V0301</th>\n",
       "      <th>SEXO</th>\n",
       "      <th>V3031</th>\n",
       "      <th>V3032</th>\n",
       "      <th>V3033</th>\n",
       "      <th>IDADE</th>\n",
       "      <th>...</th>\n",
       "      <th>V4743</th>\n",
       "      <th>V4745</th>\n",
       "      <th>V4746</th>\n",
       "      <th>V4747</th>\n",
       "      <th>V4748</th>\n",
       "      <th>V4749</th>\n",
       "      <th>V4750</th>\n",
       "      <th>V9993</th>\n",
       "      <th>REGIAO</th>\n",
       "      <th>REGIÃO</th>\n",
       "    </tr>\n",
       "  </thead>\n",
       "  <tbody>\n",
       "    <tr>\n",
       "      <th>0</th>\n",
       "      <td>2014</td>\n",
       "      <td>Rondônia</td>\n",
       "      <td>15</td>\n",
       "      <td>1</td>\n",
       "      <td>1</td>\n",
       "      <td>HOMEM</td>\n",
       "      <td>19</td>\n",
       "      <td>8</td>\n",
       "      <td>1987</td>\n",
       "      <td>27</td>\n",
       "      <td>...</td>\n",
       "      <td>3.0</td>\n",
       "      <td>3</td>\n",
       "      <td>1.0</td>\n",
       "      <td>2.0</td>\n",
       "      <td>2.0</td>\n",
       "      <td>1.0</td>\n",
       "      <td>500.0</td>\n",
       "      <td>20160623</td>\n",
       "      <td>11</td>\n",
       "      <td>Sul</td>\n",
       "    </tr>\n",
       "    <tr>\n",
       "      <th>1</th>\n",
       "      <td>2014</td>\n",
       "      <td>Rondônia</td>\n",
       "      <td>15</td>\n",
       "      <td>1</td>\n",
       "      <td>2</td>\n",
       "      <td>MULHER</td>\n",
       "      <td>19</td>\n",
       "      <td>1</td>\n",
       "      <td>1986</td>\n",
       "      <td>28</td>\n",
       "      <td>...</td>\n",
       "      <td>3.0</td>\n",
       "      <td>4</td>\n",
       "      <td>2.0</td>\n",
       "      <td>NaN</td>\n",
       "      <td>2.0</td>\n",
       "      <td>1.0</td>\n",
       "      <td>500.0</td>\n",
       "      <td>20160623</td>\n",
       "      <td>11</td>\n",
       "      <td>Sul</td>\n",
       "    </tr>\n",
       "    <tr>\n",
       "      <th>2</th>\n",
       "      <td>2014</td>\n",
       "      <td>Rondônia</td>\n",
       "      <td>15</td>\n",
       "      <td>1</td>\n",
       "      <td>3</td>\n",
       "      <td>HOMEM</td>\n",
       "      <td>14</td>\n",
       "      <td>5</td>\n",
       "      <td>2013</td>\n",
       "      <td>1</td>\n",
       "      <td>...</td>\n",
       "      <td>3.0</td>\n",
       "      <td>1</td>\n",
       "      <td>NaN</td>\n",
       "      <td>NaN</td>\n",
       "      <td>NaN</td>\n",
       "      <td>NaN</td>\n",
       "      <td>500.0</td>\n",
       "      <td>20160623</td>\n",
       "      <td>11</td>\n",
       "      <td>Sul</td>\n",
       "    </tr>\n",
       "    <tr>\n",
       "      <th>3</th>\n",
       "      <td>2014</td>\n",
       "      <td>Rondônia</td>\n",
       "      <td>15</td>\n",
       "      <td>2</td>\n",
       "      <td>1</td>\n",
       "      <td>HOMEM</td>\n",
       "      <td>8</td>\n",
       "      <td>4</td>\n",
       "      <td>1963</td>\n",
       "      <td>51</td>\n",
       "      <td>...</td>\n",
       "      <td>4.0</td>\n",
       "      <td>2</td>\n",
       "      <td>1.0</td>\n",
       "      <td>2.0</td>\n",
       "      <td>2.0</td>\n",
       "      <td>1.0</td>\n",
       "      <td>1150.0</td>\n",
       "      <td>20160623</td>\n",
       "      <td>11</td>\n",
       "      <td>Sul</td>\n",
       "    </tr>\n",
       "    <tr>\n",
       "      <th>4</th>\n",
       "      <td>2014</td>\n",
       "      <td>Rondônia</td>\n",
       "      <td>15</td>\n",
       "      <td>2</td>\n",
       "      <td>2</td>\n",
       "      <td>MULHER</td>\n",
       "      <td>6</td>\n",
       "      <td>11</td>\n",
       "      <td>1970</td>\n",
       "      <td>43</td>\n",
       "      <td>...</td>\n",
       "      <td>4.0</td>\n",
       "      <td>3</td>\n",
       "      <td>1.0</td>\n",
       "      <td>2.0</td>\n",
       "      <td>2.0</td>\n",
       "      <td>1.0</td>\n",
       "      <td>1150.0</td>\n",
       "      <td>20160623</td>\n",
       "      <td>11</td>\n",
       "      <td>Sul</td>\n",
       "    </tr>\n",
       "  </tbody>\n",
       "</table>\n",
       "<p>5 rows × 343 columns</p>\n",
       "</div>"
      ],
      "text/plain": [
       "Coluna  V0101        UF  V0102  V0103  V0301    SEXO  V3031  V3032  V3033  \\\n",
       "0        2014  Rondônia     15      1      1   HOMEM     19      8   1987   \n",
       "1        2014  Rondônia     15      1      2  MULHER     19      1   1986   \n",
       "2        2014  Rondônia     15      1      3   HOMEM     14      5   2013   \n",
       "3        2014  Rondônia     15      2      1   HOMEM      8      4   1963   \n",
       "4        2014  Rondônia     15      2      2  MULHER      6     11   1970   \n",
       "\n",
       "Coluna  IDADE   ...    V4743  V4745  V4746 V4747  V4748  V4749   V4750  \\\n",
       "0          27   ...      3.0      3    1.0   2.0    2.0    1.0   500.0   \n",
       "1          28   ...      3.0      4    2.0   NaN    2.0    1.0   500.0   \n",
       "2           1   ...      3.0      1    NaN   NaN    NaN    NaN   500.0   \n",
       "3          51   ...      4.0      2    1.0   2.0    2.0    1.0  1150.0   \n",
       "4          43   ...      4.0      3    1.0   2.0    2.0    1.0  1150.0   \n",
       "\n",
       "Coluna     V9993  REGIAO  REGIÃO  \n",
       "0       20160623      11     Sul  \n",
       "1       20160623      11     Sul  \n",
       "2       20160623      11     Sul  \n",
       "3       20160623      11     Sul  \n",
       "4       20160623      11     Sul  \n",
       "\n",
       "[5 rows x 343 columns]"
      ]
     },
     "execution_count": 209,
     "metadata": {},
     "output_type": "execute_result"
    }
   ],
   "source": [
    "'''Definindo descrição'''\n",
    "dados['APOSENTADO'] = dados['APOSENTADO'].cat.set_categories([\"Sim\",\"Não\"], rename=True)\n",
    "dados.UF = dados.UF.cat.set_categories(['Rondônia','Acre','Amazonas','Roraima','Pará','Amapá','Tocantins','Maranhão','Piauí','Ceará','Rio Grande do Norte','Paraíba','Pernambuco','Alagoas','Sergipe','Bahia','Minas Gerais','Espírito Santo','Rio de Janeiro','São Paulo','Paraná','Santa Catarina','Rio Grande do Sul','Mato Grosso do Sul','Mato Grosso','Goiás','Distrito Federal'], rename=True)\n",
    "dados.SEXO = dados.SEXO.cat.set_categories([\"HOMEM\",\"MULHER\"], rename=True)\n",
    "dados[\"COR OU RAÇA\"] = dados[\"COR OU RAÇA\"].cat.set_categories(['Indígena','Branca','Preta','Amarela','Parda','Sem declaração'], rename=True)\n",
    "dados['Anos de estudo'] = dados['Anos de estudo'].cat.set_categories(['1 ano','2 anos','3 anos','4 anos','5 anos','6 anos','7 anos','8 anos','9 anos','10 anos','11 anos','12 anos','13 anos','14 anos','15 anos ou mais','Não determinados','Não aplicável'], rename=True)\n",
    "dados.head()"
   ]
  },
  {
   "cell_type": "code",
   "execution_count": null,
   "metadata": {
    "collapsed": true
   },
   "outputs": [],
   "source": []
  },
  {
   "cell_type": "code",
   "execution_count": 211,
   "metadata": {
    "collapsed": false
   },
   "outputs": [
    {
     "data": {
      "text/html": [
       "<div>\n",
       "<table border=\"1\" class=\"dataframe\">\n",
       "  <thead>\n",
       "    <tr style=\"text-align: right;\">\n",
       "      <th>Coluna</th>\n",
       "      <th>V0101</th>\n",
       "      <th>UF</th>\n",
       "      <th>V0102</th>\n",
       "      <th>V0103</th>\n",
       "      <th>V0301</th>\n",
       "      <th>SEXO</th>\n",
       "      <th>V3031</th>\n",
       "      <th>V3032</th>\n",
       "      <th>V3033</th>\n",
       "      <th>IDADE</th>\n",
       "      <th>...</th>\n",
       "      <th>V4743</th>\n",
       "      <th>V4745</th>\n",
       "      <th>V4746</th>\n",
       "      <th>V4747</th>\n",
       "      <th>V4748</th>\n",
       "      <th>V4749</th>\n",
       "      <th>V4750</th>\n",
       "      <th>V9993</th>\n",
       "      <th>REGIAO</th>\n",
       "      <th>REGIÃO</th>\n",
       "    </tr>\n",
       "  </thead>\n",
       "  <tbody>\n",
       "    <tr>\n",
       "      <th>5</th>\n",
       "      <td>2014</td>\n",
       "      <td>Rondônia</td>\n",
       "      <td>15</td>\n",
       "      <td>3</td>\n",
       "      <td>1</td>\n",
       "      <td>MULHER</td>\n",
       "      <td>5</td>\n",
       "      <td>1</td>\n",
       "      <td>1937</td>\n",
       "      <td>77</td>\n",
       "      <td>...</td>\n",
       "      <td>3.0</td>\n",
       "      <td>2</td>\n",
       "      <td>2.0</td>\n",
       "      <td>NaN</td>\n",
       "      <td>NaN</td>\n",
       "      <td>2.0</td>\n",
       "      <td>724.0</td>\n",
       "      <td>20160623</td>\n",
       "      <td>11</td>\n",
       "      <td>Sul</td>\n",
       "    </tr>\n",
       "    <tr>\n",
       "      <th>11</th>\n",
       "      <td>2014</td>\n",
       "      <td>Rondônia</td>\n",
       "      <td>15</td>\n",
       "      <td>5</td>\n",
       "      <td>1</td>\n",
       "      <td>MULHER</td>\n",
       "      <td>13</td>\n",
       "      <td>7</td>\n",
       "      <td>1946</td>\n",
       "      <td>68</td>\n",
       "      <td>...</td>\n",
       "      <td>4.0</td>\n",
       "      <td>2</td>\n",
       "      <td>2.0</td>\n",
       "      <td>NaN</td>\n",
       "      <td>NaN</td>\n",
       "      <td>2.0</td>\n",
       "      <td>855.0</td>\n",
       "      <td>20160623</td>\n",
       "      <td>11</td>\n",
       "      <td>Sul</td>\n",
       "    </tr>\n",
       "    <tr>\n",
       "      <th>25</th>\n",
       "      <td>2014</td>\n",
       "      <td>Rondônia</td>\n",
       "      <td>15</td>\n",
       "      <td>10</td>\n",
       "      <td>1</td>\n",
       "      <td>HOMEM</td>\n",
       "      <td>15</td>\n",
       "      <td>10</td>\n",
       "      <td>1948</td>\n",
       "      <td>65</td>\n",
       "      <td>...</td>\n",
       "      <td>6.0</td>\n",
       "      <td>2</td>\n",
       "      <td>1.0</td>\n",
       "      <td>1.0</td>\n",
       "      <td>1.0</td>\n",
       "      <td>1.0</td>\n",
       "      <td>2362.0</td>\n",
       "      <td>20160623</td>\n",
       "      <td>11</td>\n",
       "      <td>Sul</td>\n",
       "    </tr>\n",
       "    <tr>\n",
       "      <th>26</th>\n",
       "      <td>2014</td>\n",
       "      <td>Rondônia</td>\n",
       "      <td>15</td>\n",
       "      <td>10</td>\n",
       "      <td>2</td>\n",
       "      <td>MULHER</td>\n",
       "      <td>24</td>\n",
       "      <td>6</td>\n",
       "      <td>1952</td>\n",
       "      <td>62</td>\n",
       "      <td>...</td>\n",
       "      <td>6.0</td>\n",
       "      <td>5</td>\n",
       "      <td>2.0</td>\n",
       "      <td>NaN</td>\n",
       "      <td>NaN</td>\n",
       "      <td>2.0</td>\n",
       "      <td>2362.0</td>\n",
       "      <td>20160623</td>\n",
       "      <td>11</td>\n",
       "      <td>Sul</td>\n",
       "    </tr>\n",
       "    <tr>\n",
       "      <th>51</th>\n",
       "      <td>2014</td>\n",
       "      <td>Rondônia</td>\n",
       "      <td>23</td>\n",
       "      <td>1</td>\n",
       "      <td>5</td>\n",
       "      <td>HOMEM</td>\n",
       "      <td>25</td>\n",
       "      <td>1</td>\n",
       "      <td>1924</td>\n",
       "      <td>90</td>\n",
       "      <td>...</td>\n",
       "      <td>3.0</td>\n",
       "      <td>1</td>\n",
       "      <td>2.0</td>\n",
       "      <td>NaN</td>\n",
       "      <td>NaN</td>\n",
       "      <td>2.0</td>\n",
       "      <td>444.0</td>\n",
       "      <td>20160623</td>\n",
       "      <td>11</td>\n",
       "      <td>Sul</td>\n",
       "    </tr>\n",
       "  </tbody>\n",
       "</table>\n",
       "<p>5 rows × 343 columns</p>\n",
       "</div>"
      ],
      "text/plain": [
       "Coluna  V0101        UF  V0102  V0103  V0301    SEXO  V3031  V3032  V3033  \\\n",
       "5        2014  Rondônia     15      3      1  MULHER      5      1   1937   \n",
       "11       2014  Rondônia     15      5      1  MULHER     13      7   1946   \n",
       "25       2014  Rondônia     15     10      1   HOMEM     15     10   1948   \n",
       "26       2014  Rondônia     15     10      2  MULHER     24      6   1952   \n",
       "51       2014  Rondônia     23      1      5   HOMEM     25      1   1924   \n",
       "\n",
       "Coluna  IDADE   ...    V4743  V4745  V4746 V4747  V4748  V4749   V4750  \\\n",
       "5          77   ...      3.0      2    2.0   NaN    NaN    2.0   724.0   \n",
       "11         68   ...      4.0      2    2.0   NaN    NaN    2.0   855.0   \n",
       "25         65   ...      6.0      2    1.0   1.0    1.0    1.0  2362.0   \n",
       "26         62   ...      6.0      5    2.0   NaN    NaN    2.0  2362.0   \n",
       "51         90   ...      3.0      1    2.0   NaN    NaN    2.0   444.0   \n",
       "\n",
       "Coluna     V9993  REGIAO  REGIÃO  \n",
       "5       20160623      11     Sul  \n",
       "11      20160623      11     Sul  \n",
       "25      20160623      11     Sul  \n",
       "26      20160623      11     Sul  \n",
       "51      20160623      11     Sul  \n",
       "\n",
       "[5 rows x 343 columns]"
      ]
     },
     "execution_count": 211,
     "metadata": {},
     "output_type": "execute_result"
    }
   ],
   "source": [
    "dados_aposentados = dados[(dados.APOSENTADO == \"Sim\") & (dados.IDADE >= 20) & (dados['APOSENTADORIA'] != 999999999999) & (~dados['APOSENTADORIA'].isnull()) & (dados['Anos de estudo'] != \"Não determinados\") & (~dados['Anos de estudo'].isnull()) ]\n",
    "dados_aposentados.head()"
   ]
  },
  {
   "cell_type": "code",
   "execution_count": 212,
   "metadata": {
    "collapsed": false
   },
   "outputs": [],
   "source": [
    "faixas = np.arange(500,3000,100)\n",
    "#print (aposentadoria)\n",
    "aposentadoria_disc = pd.cut(dados['APOSENTADORIA'], bins=faixas)"
   ]
  },
  {
   "cell_type": "markdown",
   "metadata": {},
   "source": [
    "Neste gráfico podemos ver que o histograma da aposentadoria"
   ]
  },
  {
   "cell_type": "code",
   "execution_count": 213,
   "metadata": {
    "collapsed": false
   },
   "outputs": [
    {
     "data": {
      "text/plain": [
       "<matplotlib.axes._subplots.AxesSubplot at 0x2313e873160>"
      ]
     },
     "execution_count": 213,
     "metadata": {},
     "output_type": "execute_result"
    },
    {
     "data": {
      "image/png": "[encoded data removed]",
      "text/plain": [
       "<matplotlib.figure.Figure at 0x230be1e82b0>"
      ]
     },
     "metadata": {},
     "output_type": "display_data"
    }
   ],
   "source": [
    "dados_aposentados['APOSENTADORIA'].plot.hist(bins=faixas,normed=1, figsize =(10,10),stacked=True)\n"
   ]
  },
  {
   "cell_type": "code",
   "execution_count": 214,
   "metadata": {
    "collapsed": false
   },
   "outputs": [
    {
     "data": {
      "text/plain": [
       "1 ano               28.479664\n",
       "5 anos              17.358171\n",
       "12 anos             12.613507\n",
       "9 anos               8.017752\n",
       "4 anos               7.477591\n",
       "3 anos               6.350550\n",
       "6 anos               6.224999\n",
       "2 anos               3.962159\n",
       "7 anos               2.721247\n",
       "13 anos              1.798593\n",
       "8 anos               1.570849\n",
       "15 anos ou mais      1.051126\n",
       "11 anos              0.989810\n",
       "14 anos              0.680312\n",
       "10 anos              0.630675\n",
       "Não aplicável        0.072995\n",
       "Não determinados     0.000000\n",
       "Name: Anos de estudo, dtype: float64"
      ]
     },
     "execution_count": 214,
     "metadata": {},
     "output_type": "execute_result"
    }
   ],
   "source": [
    "dados_aposentados['Anos de estudo'].value_counts(True)*100"
   ]
  },
  {
   "cell_type": "code",
   "execution_count": 215,
   "metadata": {
    "collapsed": false
   },
   "outputs": [],
   "source": [
    "aposentadoriaXestudo = pd.crosstab(dados_aposentados['Anos de estudo'],aposentadoria_disc)"
   ]
  },
  {
   "cell_type": "code",
   "execution_count": 216,
   "metadata": {
    "collapsed": false
   },
   "outputs": [],
   "source": [
    "#aposentadoriaXestudo.plot.barh(legend=True, figsize=(100,100),stacked=True)\n",
    "porcentagem_aposentadoria = aposentadoria_disc.value_counts(True)*100\n"
   ]
  },
  {
   "cell_type": "markdown",
   "metadata": {},
   "source": [
    "Filtrando, peguei apenas a população que recebe menos de 800 e do sexo masculino para analisar os homens que recebem menos"
   ]
  },
  {
   "cell_type": "code",
   "execution_count": 222,
   "metadata": {
    "collapsed": false
   },
   "outputs": [
    {
     "name": "stdout",
     "output_type": "stream",
     "text": [
      "1 ano               39.363705\n",
      "5 anos              17.347515\n",
      "4 anos               8.527861\n",
      "3 anos               7.916039\n",
      "9 anos               5.769955\n",
      "6 anos               5.713479\n",
      "2 anos               5.082831\n",
      "12 anos              4.574548\n",
      "7 anos               2.287274\n",
      "8 anos               1.364834\n",
      "13 anos              0.602410\n",
      "10 anos              0.555346\n",
      "11 anos              0.527108\n",
      "14 anos              0.150602\n",
      "15 anos ou mais      0.122364\n",
      "Não aplicável        0.094127\n",
      "Não determinados     0.000000\n",
      "Name: Anos de estudo, dtype: float64\n"
     ]
    },
    {
     "data": {
      "text/plain": [
       "<matplotlib.axes._subplots.AxesSubplot at 0x23158241ef0>"
      ]
     },
     "execution_count": 222,
     "metadata": {},
     "output_type": "execute_result"
    },
    {
     "data": {
      "image/png": "[encoded data removed]",
      "text/plain": [
       "<matplotlib.figure.Figure at 0x2314d6fe0b8>"
      ]
     },
     "metadata": {},
     "output_type": "display_data"
    }
   ],
   "source": [
    "dados_aposentados_homens = dados_aposentados[(dados_aposentados[\"APOSENTADORIA\"] <= 800) & (dados_aposentados[\"SEXO\"] == \"HOMEM\")]\n",
    "\n",
    "pobres_h_poc = dados_aposentados_homens[\"Anos de estudo\"].value_counts(True)*100\n",
    "print(pobres_h_poc)\n",
    "pobres_h_poc.plot.bar()"
   ]
  },
  {
   "cell_type": "markdown",
   "metadata": {},
   "source": [
    "Filtrando, peguei apenas a população que recebe menos de 800 e do sexo feminino para analisar as mulheres que recebem menos"
   ]
  },
  {
   "cell_type": "code",
   "execution_count": 221,
   "metadata": {
    "collapsed": false
   },
   "outputs": [
    {
     "name": "stdout",
     "output_type": "stream",
     "text": [
      "1 ano               35.076594\n",
      "5 anos              17.798361\n",
      "4 anos               8.756680\n",
      "3 anos               7.424296\n",
      "12 anos              6.726042\n",
      "6 anos               6.490916\n",
      "9 anos               6.455290\n",
      "2 anos               4.645529\n",
      "7 anos               2.493766\n",
      "8 anos               1.432134\n",
      "13 anos              0.926256\n",
      "11 anos              0.741005\n",
      "10 anos              0.534378\n",
      "14 anos              0.213751\n",
      "15 anos ou mais      0.185251\n",
      "Não aplicável        0.099751\n",
      "Não determinados     0.000000\n",
      "Name: Anos de estudo, dtype: float64\n"
     ]
    },
    {
     "data": {
      "text/plain": [
       "<matplotlib.axes._subplots.AxesSubplot at 0x2314d580b38>"
      ]
     },
     "execution_count": 221,
     "metadata": {},
     "output_type": "execute_result"
    },
    {
     "data": {
      "image/png": "[encoded data removed]",
      "text/plain": [
       "<matplotlib.figure.Figure at 0x2313e0b7f28>"
      ]
     },
     "metadata": {},
     "output_type": "display_data"
    }
   ],
   "source": [
    "dados_aposentados_mulheres = dados_aposentados[(dados_aposentados[\"APOSENTADORIA\"] <= 800) & (dados_aposentados[\"SEXO\"] == \"MULHER\")]\n",
    "\n",
    "pobres_m_poc = dados_aposentados_mulheres[\"Anos de estudo\"].value_counts(True)*100\n",
    "print(pobres_m_poc)\n",
    "pobres_m_poc.plot.bar()"
   ]
  },
  {
   "cell_type": "code",
   "execution_count": null,
   "metadata": {
    "collapsed": false
   },
   "outputs": [],
   "source": []
  },
  {
   "cell_type": "markdown",
   "metadata": {},
   "source": [
    "___"
   ]
  },
  {
   "cell_type": "markdown",
   "metadata": {
    "collapsed": false
   },
   "source": [
    "___\n",
    "## Conclusão "
   ]
  },
  {
   "cell_type": "markdown",
   "metadata": {
    "collapsed": true
   },
   "source": [
    "Analisando os graficos vemos que a maioria das pessoas (tanto homens como mulheres) que recebem até um salario minimo de aposentadoria não completou 10 anos de estudo, ou seja não concluiu o ensino fundamental."
   ]
  },
  {
   "cell_type": "code",
   "execution_count": null,
   "metadata": {
    "collapsed": true
   },
   "outputs": [],
   "source": []
  },
  {
   "cell_type": "code",
   "execution_count": null,
   "metadata": {
    "collapsed": true
   },
   "outputs": [],
   "source": []
  }
 ],
 "metadata": {
  "anaconda-cloud": {},
  "kernelspec": {
   "display_name": "Python 3",
   "language": "python",
   "name": "python3"
  },
  "language_info": {
   "codemirror_mode": {
    "name": "ipython",
    "version": 3
   },
   "file_extension": ".py",
   "mimetype": "text/x-python",
   "name": "python",
   "nbconvert_exporter": "python",
   "pygments_lexer": "ipython3",
   "version": "3.5.2"
  }
 },
 "nbformat": 4,
 "nbformat_minor": 0
}
