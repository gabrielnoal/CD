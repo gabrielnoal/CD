{
 "cells": [
  {
   "cell_type": "markdown",
   "metadata": {},
   "source": [
    "___\n",
    "# Atividade: Teoria da Probabilidade\n",
    "___\n",
    "\n",
    "## Aula 08\n",
    "\n",
    "**Referência de Leitura:**\n",
    "1. Magalhães e Lima (7ª. Edição): pág. 49 a 68 - Probabilidades\n",
    "\n",
    "**Hoje:**\n",
    "1. Conceito de Probabilidade\n",
    "4. Probabilidade Condicional\n",
    "3. Independência de eventos\n",
    "5. Teorema de Bayes. Simulação do problema de Monty Hall\n",
    "\n",
    "**Próxima aula:**\n",
    "1. Magalhães e Lima (7ª. Edição): pág. 69 a 104 - Variáveis aleatórias discretas\n",
    "___"
   ]
  },
  {
   "cell_type": "code",
   "execution_count": 2,
   "metadata": {
    "collapsed": true
   },
   "outputs": [],
   "source": [
    "%matplotlib inline\n",
    "import pandas as pd\n",
    "import matplotlib.pyplot as plt\n",
    "\n",
    "#Bibliotecas necessárias\n",
    "from numpy.random import shuffle, randint, choice\n"
   ]
  },
  {
   "cell_type": "markdown",
   "metadata": {},
   "source": [
    "## <font color='blue'>Exercício 1</font>\n",
    "\n",
    "Monte a simulação de 1000 jogadas de um dado idôneo de 6 faces. Faça o histograma (normalizado) da frequência."
   ]
  },
  {
   "cell_type": "code",
   "execution_count": 3,
   "metadata": {
    "collapsed": false
   },
   "outputs": [
    {
     "data": {
      "text/plain": [
       "<matplotlib.axes._subplots.AxesSubplot at 0x22ed98ee240>"
      ]
     },
     "execution_count": 3,
     "metadata": {},
     "output_type": "execute_result"
    },
    {
     "data": {
      "image/png": "[encoded data removed]",
      "text/plain": [
       "<matplotlib.figure.Figure at 0x22ed98d7748>"
      ]
     },
     "metadata": {},
     "output_type": "display_data"
    }
   ],
   "source": [
    "x = pd.DataFrame(randint(1,7,size=1000))\n",
    "\n",
    "x.plot.hist(bins=6,legend=False)"
   ]
  },
  {
   "cell_type": "markdown",
   "metadata": {
    "collapsed": true
   },
   "source": [
    "a) Olhando o histograma, o que pode se dizer sobre as probabilidade de cada face?"
   ]
  },
  {
   "cell_type": "markdown",
   "metadata": {},
   "source": [
    "    R: Todos os lados do dado posuem a mesma probabilidade de serem escolhidas."
   ]
  },
  {
   "cell_type": "markdown",
   "metadata": {},
   "source": [
    "b) Discorra sobre o porque da probabilidade não ser exatamente igual à teórica."
   ]
  },
  {
   "cell_type": "markdown",
   "metadata": {},
   "source": [
    "    Pois a probabilidade teorica se refere a chance do fato acontecer na teoria, sem considerar que na pratica não  funciona  exatamente assim. "
   ]
  },
  {
   "cell_type": "markdown",
   "metadata": {},
   "source": [
    "___\n",
    "## <font color='blue'>Exercício 2</font>\n",
    "\n",
    "Ampliando o espaço amostral para as possíveis jogadas de 2 dados, analise as seguintes situações:\n",
    "    \n",
    "    a) Jogando os dois dados ao mesmo tempo. Qual é a probabilidade de obter soma 7?\n",
    "    "
   ]
  },
  {
   "cell_type": "code",
   "execution_count": 4,
   "metadata": {
    "collapsed": false
   },
   "outputs": [
    {
     "name": "stdout",
     "output_type": "stream",
     "text": [
      "\n",
      "Jogando os dois dados ao mesmo tempo. A probabilidade da soma dos dois darem 7 é 16.28% e a de não dar 7 é de 83.72%  (aproximadamente)\n"
     ]
    }
   ],
   "source": [
    "soma_igual7 = 0.0\n",
    "soma_dif7 = 0.0\n",
    "interações = 10000\n",
    "for i in range(0,interações):\n",
    "    x = randint(1,7)\n",
    "    y = randint(1,7)\n",
    "    if x+y == 7:\n",
    "        soma_igual7 += 1\n",
    "    else:\n",
    "        soma_dif7 +=1\n",
    "        \n",
    "prob7 = (soma_igual7/interações)*100\n",
    "prob_dif7 = (soma_dif7/interações)*100\n",
    "print('')\n",
    "print('Jogando os dois dados ao mesmo tempo. A probabilidade da soma dos dois darem 7 é {0}% e a de não dar 7 é de {1}%  (aproximadamente)'.format(prob7,prob_dif7))\n",
    "    "
   ]
  },
  {
   "cell_type": "markdown",
   "metadata": {
    "collapsed": true
   },
   "source": [
    "    b) Jogando um dado e depois o segundo dado. Qual é a probabilidade de obter soma 7 já sabendo o resultado do primeiro? Compare o resultado com item anterior! Por que é igual ou diferente?"
   ]
  },
  {
   "cell_type": "markdown",
   "metadata": {},
   "source": [
    "A probabilidade é a mesma pois um dado não interfere na probabilidade do outro."
   ]
  },
  {
   "cell_type": "markdown",
   "metadata": {},
   "source": [
    "___\n",
    "## <font color='blue'>Exercício 3</font>\n",
    "\n",
    "Simule 10000 vezes o problema de Monty Hall¹ , usar o seguinte algoritmo:\n",
    "\n",
    "\n",
    "* Repetir 10000 vezes:\n",
    "    * Sorteie um número de porta de 1 a 3 para ser a premiada\n",
    "    * Sorteie um número de porta de 1 a 3 para ser a porta escolhida.\n",
    "    * Sorteie um número de porta para ser a aberta, desde que não seja a premiada e nem a porta escolhida. Assim, se:\n",
    "        * porta premiada é 1 e a escolhida é 1, sorteie entre as portas 2 e 3 para ser aberta\n",
    "        * porta premiada é 1 e a escolhida é 2, com probabilidade 1 deve abrir a porta 3\n",
    "        * porta premiada é 1 e a escolhida é 3, com probabilidade 1 deve abrir a porta 2\n",
    "        * assim para demais casos...\n",
    "    \n",
    "    * Calcule quantas vezes indivíduo ganha ao trocar de porta. Ou seja, se:\n",
    "        * porta premiada é 1, a escolhida é 1 e aberta é 2 (ou 3), indivíduo perde se trocar de porta\n",
    "        * porta premiada é 1, a escolhida é 2 e aberta é 3, indivíduo ganha se trocar de porta\n",
    "        * porta premiada é 1, a escolhida é 3 e aberta é 2, indivíduo ganha se trocar de porta\n",
    "        * assim para demais casos...\n",
    "        \n",
    "    * Exibir quantas vezes em 10000, o indivíduo ganhou ao trocar de porta.\n",
    "\n",
    "Compare o resultado numérico com o resultado analítico obtido via Teorema de Bayes.\n",
    "\n",
    "¹https://en.wikipedia.org/wiki/Monty_Hall_problem e \n",
    "Exercício 1.4.5 de http://www.portalaction.com.br/probabilidades/14-eventos-independentes-e-probabilidade-condicional"
   ]
  },
  {
   "cell_type": "code",
   "execution_count": 9,
   "metadata": {
    "collapsed": false
   },
   "outputs": [
    {
     "name": "stdout",
     "output_type": "stream",
     "text": [
      "Vitorias: 6749\n",
      "Derrotas: 3251\n",
      "Venceu: 67.49000000000001% das vezes\n"
     ]
    }
   ],
   "source": [
    "interações = 10000\n",
    "\n",
    "portas = ['A','B','C'] \n",
    "\n",
    "vitorias = 0\n",
    "\n",
    "derrotas = 0\n",
    "\n",
    "\n",
    "for i in range(interações):\n",
    "    \n",
    "    porta_premiada = portas[randint(0,3)]\n",
    "    \n",
    "    porta_escolhida = portas[randint(0,3)]\n",
    "    \n",
    "    porta_aberta = portas[randint(0,3)]\n",
    "    \n",
    "    while porta_aberta == porta_premiada or porta_aberta == porta_escolhida:\n",
    "        porta_aberta = portas[randint(0,3)]\n",
    "        \n",
    "    \n",
    "# Como o candidato troca de porta, se ele escolher a porta premiada de primeira ele perde.    \n",
    "    if porta_escolhida == porta_premiada:\n",
    "        derrotas += 1\n",
    "\n",
    "        \n",
    "    elif porta_escolhida != porta_premiada:\n",
    "        vitorias += 1\n",
    "\n",
    "\n",
    "        \n",
    "t = (vitorias/interações)*100\n",
    "\n",
    "print('Vitorias: {0}'.format(vitorias))\n",
    "print('Derrotas: {0}'.format(derrotas))\n",
    "print('Venceu: {0}% das vezes'.format(t))"
   ]
  }
 ],
 "metadata": {
  "anaconda-cloud": {},
  "kernelspec": {
   "display_name": "Python 3",
   "language": "python",
   "name": "python3"
  },
  "language_info": {
   "codemirror_mode": {
    "name": "ipython",
    "version": 3
   },
   "file_extension": ".py",
   "mimetype": "text/x-python",
   "name": "python",
   "nbconvert_exporter": "python",
   "pygments_lexer": "ipython3",
   "version": "3.5.2"
  }
 },
 "nbformat": 4,
 "nbformat_minor": 0
}
