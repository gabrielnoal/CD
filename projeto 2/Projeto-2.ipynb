{
 "cells": [
  {
   "cell_type": "markdown",
   "metadata": {},
   "source": [
    "## Técnica Inferencial"
   ]
  },
  {
   "cell_type": "code",
   "execution_count": 69,
   "metadata": {
    "collapsed": true
   },
   "outputs": [],
   "source": [
    "import numpy as np\n",
    "import matplotlib.pyplot as plt\n",
    "import numpy.random as rnd\n",
    "from scipy.stats import norm, t\n",
    "%matplotlib inline"
   ]
  },
  {
   "cell_type": "code",
   "execution_count": 70,
   "metadata": {
    "collapsed": false
   },
   "outputs": [],
   "source": [
    "#Amostra do teste A\n",
    "data1 = norm.rvs(20,4, size=50)\n",
    "mu1=np.mean(data1)\n",
    "sigma1=np.var(data1)**0.5"
   ]
  },
  {
   "cell_type": "code",
   "execution_count": 72,
   "metadata": {
    "collapsed": true
   },
   "outputs": [],
   "source": [
    "#Amostra do teste B\n",
    "data2 = norm.rvs(22,4, size=50)\n",
    "mu2=np.mean(data2)\n",
    "sigma2=np.var(data2)**0.5"
   ]
  },
  {
   "cell_type": "markdown",
   "metadata": {},
   "source": [
    "Para realizar a comparação entre as médias amostrais realizaremos o teste t-Student pois é o mais adequado para a situação em que as amostras são independentes com variâncias desconhecidas e diferentes.\n",
    "___\n",
    "As hipoteses sobre a média de tempo para a realização da tafera nos testes A e B são:\n",
    "\n",
    "### H nula: μa = μb\n",
    "\n",
    "### H alternativa: μa ≠ μb\n",
    "\n",
    "Adotamos o valor de 5% como nível de siginificância para nosso teste, mas como o teste considera hipoteses bilaterais a região de rejeição será composta de duas partes iguais disjuntas. Podemos demonstrar a região crítica pelo intervalo:\n",
    "\n",
    "### RC = {t < -tc ou t > tc}\n",
    "\n",
    "Onde tc é o valor crítico. Portanto rejeitaremos a hipotese nula caso o valor obtido pelo teste pertencer a região crítica.\n",
    "\n",
    "Realizando o teste para verificar a Hipotese nula temos:"
   ]
  },
  {
   "cell_type": "code",
   "execution_count": 94,
   "metadata": {
    "collapsed": false
   },
   "outputs": [
    {
     "name": "stdout",
     "output_type": "stream",
     "text": [
      "A hipotese nula foi rejeitada\n"
     ]
    }
   ],
   "source": [
    "#Teste T-Student\n",
    "mu3 = mu1-mu2\n",
    "\n",
    "#Distribuição T\n",
    "T = mu3/(sigma1/50+sigma2/50)**0.5\n",
    "\n",
    "#Grau de liberdade\n",
    "v1 = (sigma1/50+sigma2/50)**2\n",
    "v2 = ((sigma1/40)**2)/49\n",
    "v3 = ((sigma2/40)**2)/49\n",
    "\n",
    "v = v1/v2+v3\n",
    "\n",
    "tc = 1.658\n",
    "\n",
    "if T<-tc or T>tc:\n",
    "    print(\"A hipotese nula foi rejeitada\")\n",
    "\n",
    "else:\n",
    "    print(\"A hipotese nula foi aceita\")"
   ]
  }
 ],
 "metadata": {
  "kernelspec": {
   "display_name": "Python 3",
   "language": "python",
   "name": "python3"
  },
  "language_info": {
   "codemirror_mode": {
    "name": "ipython",
    "version": 3
   },
   "file_extension": ".py",
   "mimetype": "text/x-python",
   "name": "python",
   "nbconvert_exporter": "python",
   "pygments_lexer": "ipython3",
   "version": "3.5.1"
  }
 },
 "nbformat": 4,
 "nbformat_minor": 0
}
