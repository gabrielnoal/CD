{
 "cells": [
  {
   "cell_type": "markdown",
   "metadata": {},
   "source": [
    "# <font color='red'>Projeto 2 - Teste AB</font>\n",
    "\n",
    "## Grupo: Cauê Citrini, Eduardo Gebara, Gabriel Noal e Rene Martinez\n",
    "\n",
    "___\n",
    "### Introdução\n",
    "\n",
    "O projeto consiste em analizar as técnicas inferenciais adequadas para analizar duas amostras de tempo coletadas pelo teste realizado no site portifólio dos integrantes do grupo, na primeira versão do teste o botão de retorno a página inicial é um link e na outra versão uma imagem, dessa forma testaremos em qual dos casos os usuários levariam menos tempo para retornar a página inicial."
   ]
  },
  {
   "cell_type": "markdown",
   "metadata": {},
   "source": [
    "### Versão Link"
   ]
  },
  {
   "cell_type": "markdown",
   "metadata": {
    "collapsed": false
   },
   "source": [
    "<img src=\"botao.png\">"
   ]
  },
  {
   "cell_type": "markdown",
   "metadata": {},
   "source": [
    "### Versão Imagem"
   ]
  },
  {
   "cell_type": "markdown",
   "metadata": {
    "collapsed": false
   },
   "source": [
    "<img src=\"imagem.png\">\n"
   ]
  },
  {
   "cell_type": "code",
   "execution_count": 4,
   "metadata": {
    "collapsed": true
   },
   "outputs": [],
   "source": [
    "import numpy as np\n",
    "import pandas as pd\n",
    "import json\n",
    "import itertools\n",
    "import matplotlib.pyplot as plt\n",
    "import numpy.random as rnd\n",
    "from scipy.stats import norm, t\n",
    "%matplotlib inline"
   ]
  },
  {
   "cell_type": "markdown",
   "metadata": {},
   "source": [
    "___\n",
    "### Técnica Inferencial"
   ]
  },
  {
   "cell_type": "markdown",
   "metadata": {},
   "source": [
    "Inicialmente, vamos analisar qual é a melhor técnica inferencial para nosso projeto. Para isso, vamos gerar dois conjuntos de dados ficticios que simulam os dados que obteremos pelo teste AB realizado no site. A partir dos dados elaboraremos o teste de hipóteses capaz de averiguar qual dos modelos de site é o mais eficiente para o usuário. "
   ]
  },
  {
   "cell_type": "code",
   "execution_count": 5,
   "metadata": {
    "collapsed": false
   },
   "outputs": [],
   "source": [
    "#Amostra do teste A\n",
    "n1=50\n",
    "data1 = norm.rvs(20,4, size=n1)\n",
    "mu1=np.mean(data1)\n",
    "S1=np.var(data1)**0.5"
   ]
  },
  {
   "cell_type": "code",
   "execution_count": 6,
   "metadata": {
    "collapsed": false
   },
   "outputs": [],
   "source": [
    "#Amostra do teste B\n",
    "n2=50\n",
    "data2 = norm.rvs(22,4, size=n2)\n",
    "mu2=np.mean(data2)\n",
    "S2=np.var(data2)**0.5"
   ]
  },
  {
   "cell_type": "markdown",
   "metadata": {},
   "source": [
    "Em nosso teste as amostras são independentes, já que pessoas distintas são submetidas a apenas um dos testes dessa forma o resultado de um não condiciona o resultado do outro. Podemos afirmar também que as variâncias são desconhecidas ja que nenhum teste anterior foi realizado e não possuimos quaisquer outra evidência que informe esse parâmetro. Por conta disso, estimaremos as variâncias a partir de S1 e S2.\n",
    "\n",
    "Por conta disso, utilizaremos o teste t-Student ideal para esse tipo de comparação de duas médias.\n",
    "___\n",
    "As hipoteses sobre a média de tempo para a realização da tafera nos testes A e B são:\n",
    "\n",
    "#### H nula: μa = μb\n",
    "\n",
    "#### H alternativa: μa > μb\n",
    "\n",
    "Adotamos o valor de 5% como nível de siginificância para nosso teste e como se trata de um teste unilateral, podemos demonstrar a região crítica pelo intervalo:\n",
    "\n",
    "#### RC = {T > tc}\n",
    "\n",
    "Onde tc é o valor crítico. Portanto rejeitaremos a hipotese nula caso o valor obtido pelo teste pertencer a região crítica.\n",
    "\n",
    "Realizando o teste para verificar a Hipotese nula temos:"
   ]
  },
  {
   "cell_type": "code",
   "execution_count": 7,
   "metadata": {
    "collapsed": false
   },
   "outputs": [
    {
     "name": "stdout",
     "output_type": "stream",
     "text": [
      "O grau de liberdade é: 96\n",
      "O valor T é: -2.446204254486016\n",
      "A hipotese nula não foi rejeitada\n"
     ]
    }
   ],
   "source": [
    "#Teste T-Student\n",
    "mu3 = mu1-mu2\n",
    "\n",
    "#Distribuição T\n",
    "T=mu3/((S1**2/n1)+(S2**2/n2))**0.5\n",
    "\n",
    "#Grau de liberdade\n",
    "v1 = ((S1**2/n1)+(S2**2/n2))**2 \n",
    "v2 = ((S1**2/n1)**2)/(n1-1)\n",
    "v3 = ((S2**2/n2)**2)/(n2-1)\n",
    "\n",
    "v = v1/(v2+v3)\n",
    "print(\"O grau de liberdade é: {0}\".format(int(v)))\n",
    "print(\"O valor T é: {0}\".format(T))\n",
    "\n",
    "tc = 1.658\n",
    "\n",
    "if T>tc:\n",
    "    print(\"A hipotese nula foi rejeitada\")\n",
    "\n",
    "else:\n",
    "    print(\"A hipotese nula não foi rejeitada\")"
   ]
  },
  {
   "cell_type": "markdown",
   "metadata": {
    "collapsed": true
   },
   "source": [
    "___\n",
    "### Análise dos dados reais\n",
    "\n",
    "Mantendo o método descrito na técnica inferencial, realizaremos o teste de hipotese:\n",
    "\n",
    "#### H nula: μa = μb\n",
    "\n",
    "#### H alternativa: μa > μb\n",
    "\n",
    "Adotamos o valor de 5% como nível de siginificância para nosso teste e como se trata de um teste unilateral, podemos demonstrar a região crítica pelo intervalo:\n",
    "\n",
    "#### RC = {T > tc}\n",
    "\n",
    "Este tc equivale a 45764.78 milisegundos."
   ]
  },
  {
   "cell_type": "code",
   "execution_count": 8,
   "metadata": {
    "collapsed": false
   },
   "outputs": [],
   "source": [
    "arquivo = open(\"projeto-2-teste-ab-export.json\")\n",
    "linhas = arquivo.readlines()\n",
    "texto = \"\".join(linhas)\n",
    "dados_fire = json.loads(texto)"
   ]
  },
  {
   "cell_type": "code",
   "execution_count": 9,
   "metadata": {
    "collapsed": false
   },
   "outputs": [],
   "source": [
    "for k,v in dados_fire[\"projeto-2-teste-ab\"].items():\n",
    "    # print(k,v) # habilite para imprimir as chaves de mais alto nível\n",
    "    for chave, valor in v.items():\n",
    "        # print(chave, valor) # habilite para imprimir as chaves inferiores\n",
    "        pass # desabilite quando reabilitar a linha de cima"
   ]
  },
  {
   "cell_type": "code",
   "execution_count": 10,
   "metadata": {
    "collapsed": false
   },
   "outputs": [
    {
     "data": {
      "text/html": [
       "<div>\n",
       "<table border=\"1\" class=\"dataframe\">\n",
       "  <thead>\n",
       "    <tr style=\"text-align: right;\">\n",
       "      <th></th>\n",
       "      <th>tempo</th>\n",
       "      <th>user_id</th>\n",
       "      <th>versao</th>\n",
       "    </tr>\n",
       "  </thead>\n",
       "  <tbody>\n",
       "    <tr>\n",
       "      <th>0</th>\n",
       "      <td>7907</td>\n",
       "      <td>1960282978</td>\n",
       "      <td>Imagem</td>\n",
       "    </tr>\n",
       "    <tr>\n",
       "      <th>1</th>\n",
       "      <td>26476</td>\n",
       "      <td>984025379</td>\n",
       "      <td>Link</td>\n",
       "    </tr>\n",
       "    <tr>\n",
       "      <th>2</th>\n",
       "      <td>77803</td>\n",
       "      <td>2310541718</td>\n",
       "      <td>Link</td>\n",
       "    </tr>\n",
       "    <tr>\n",
       "      <th>3</th>\n",
       "      <td>4301</td>\n",
       "      <td>1561760900</td>\n",
       "      <td>Link</td>\n",
       "    </tr>\n",
       "    <tr>\n",
       "      <th>4</th>\n",
       "      <td>19744</td>\n",
       "      <td>1355150594</td>\n",
       "      <td>Link</td>\n",
       "    </tr>\n",
       "    <tr>\n",
       "      <th>5</th>\n",
       "      <td>49136</td>\n",
       "      <td>2819112231</td>\n",
       "      <td>Link</td>\n",
       "    </tr>\n",
       "    <tr>\n",
       "      <th>6</th>\n",
       "      <td>6211</td>\n",
       "      <td>4187013443</td>\n",
       "      <td>Imagem</td>\n",
       "    </tr>\n",
       "    <tr>\n",
       "      <th>7</th>\n",
       "      <td>8344</td>\n",
       "      <td>1960282978</td>\n",
       "      <td>Imagem</td>\n",
       "    </tr>\n",
       "    <tr>\n",
       "      <th>8</th>\n",
       "      <td>21711</td>\n",
       "      <td>3972734244</td>\n",
       "      <td>Link</td>\n",
       "    </tr>\n",
       "    <tr>\n",
       "      <th>9</th>\n",
       "      <td>7191</td>\n",
       "      <td>1716522617</td>\n",
       "      <td>Link</td>\n",
       "    </tr>\n",
       "    <tr>\n",
       "      <th>10</th>\n",
       "      <td>60096</td>\n",
       "      <td>1550183320</td>\n",
       "      <td>Imagem</td>\n",
       "    </tr>\n",
       "    <tr>\n",
       "      <th>11</th>\n",
       "      <td>142890</td>\n",
       "      <td>2819112231</td>\n",
       "      <td>Link</td>\n",
       "    </tr>\n",
       "    <tr>\n",
       "      <th>12</th>\n",
       "      <td>16967</td>\n",
       "      <td>1429636364</td>\n",
       "      <td>Link</td>\n",
       "    </tr>\n",
       "    <tr>\n",
       "      <th>13</th>\n",
       "      <td>12322</td>\n",
       "      <td>1690121303</td>\n",
       "      <td>Link</td>\n",
       "    </tr>\n",
       "    <tr>\n",
       "      <th>14</th>\n",
       "      <td>45155</td>\n",
       "      <td>2411498762</td>\n",
       "      <td>Link</td>\n",
       "    </tr>\n",
       "    <tr>\n",
       "      <th>15</th>\n",
       "      <td>10986</td>\n",
       "      <td>2936226002</td>\n",
       "      <td>Imagem</td>\n",
       "    </tr>\n",
       "    <tr>\n",
       "      <th>16</th>\n",
       "      <td>10201</td>\n",
       "      <td>1814136725</td>\n",
       "      <td>Link</td>\n",
       "    </tr>\n",
       "    <tr>\n",
       "      <th>17</th>\n",
       "      <td>13334</td>\n",
       "      <td>1400914647</td>\n",
       "      <td>Link</td>\n",
       "    </tr>\n",
       "    <tr>\n",
       "      <th>18</th>\n",
       "      <td>12961</td>\n",
       "      <td>1814136725</td>\n",
       "      <td>Link</td>\n",
       "    </tr>\n",
       "    <tr>\n",
       "      <th>19</th>\n",
       "      <td>714</td>\n",
       "      <td>2614080245</td>\n",
       "      <td>Link</td>\n",
       "    </tr>\n",
       "    <tr>\n",
       "      <th>20</th>\n",
       "      <td>199981</td>\n",
       "      <td>2461486380</td>\n",
       "      <td>Link</td>\n",
       "    </tr>\n",
       "    <tr>\n",
       "      <th>21</th>\n",
       "      <td>17902</td>\n",
       "      <td>2614080245</td>\n",
       "      <td>Link</td>\n",
       "    </tr>\n",
       "    <tr>\n",
       "      <th>22</th>\n",
       "      <td>25538</td>\n",
       "      <td>3999542713</td>\n",
       "      <td>Link</td>\n",
       "    </tr>\n",
       "    <tr>\n",
       "      <th>23</th>\n",
       "      <td>16460</td>\n",
       "      <td>1532345265</td>\n",
       "      <td>Imagem</td>\n",
       "    </tr>\n",
       "    <tr>\n",
       "      <th>24</th>\n",
       "      <td>170817</td>\n",
       "      <td>3528712084</td>\n",
       "      <td>Imagem</td>\n",
       "    </tr>\n",
       "    <tr>\n",
       "      <th>25</th>\n",
       "      <td>9408</td>\n",
       "      <td>1960282978</td>\n",
       "      <td>Link</td>\n",
       "    </tr>\n",
       "  </tbody>\n",
       "</table>\n",
       "</div>"
      ],
      "text/plain": [
       "     tempo     user_id  versao\n",
       "0     7907  1960282978  Imagem\n",
       "1    26476   984025379    Link\n",
       "2    77803  2310541718    Link\n",
       "3     4301  1561760900    Link\n",
       "4    19744  1355150594    Link\n",
       "5    49136  2819112231    Link\n",
       "6     6211  4187013443  Imagem\n",
       "7     8344  1960282978  Imagem\n",
       "8    21711  3972734244    Link\n",
       "9     7191  1716522617    Link\n",
       "10   60096  1550183320  Imagem\n",
       "11  142890  2819112231    Link\n",
       "12   16967  1429636364    Link\n",
       "13   12322  1690121303    Link\n",
       "14   45155  2411498762    Link\n",
       "15   10986  2936226002  Imagem\n",
       "16   10201  1814136725    Link\n",
       "17   13334  1400914647    Link\n",
       "18   12961  1814136725    Link\n",
       "19     714  2614080245    Link\n",
       "20  199981  2461486380    Link\n",
       "21   17902  2614080245    Link\n",
       "22   25538  3999542713    Link\n",
       "23   16460  1532345265  Imagem\n",
       "24  170817  3528712084  Imagem\n",
       "25    9408  1960282978    Link"
      ]
     },
     "execution_count": 10,
     "metadata": {},
     "output_type": "execute_result"
    }
   ],
   "source": [
    "lista_dicionarios = []\n",
    "\n",
    "for k,v in dados_fire[\"projeto-2-teste-ab\"].items():\n",
    "    lista_dicionarios.append(v)\n",
    "    \n",
    "dataframe = pd.DataFrame.from_records(lista_dicionarios)\n",
    "dataframe"
   ]
  },
  {
   "cell_type": "markdown",
   "metadata": {},
   "source": [
    "## Comparação dos Histogramas\n"
   ]
  },
  {
   "cell_type": "code",
   "execution_count": 18,
   "metadata": {
    "collapsed": false,
    "scrolled": true
   },
   "outputs": [
    {
     "data": {
      "text/plain": [
       "(array([ 5.,  0.,  0.,  1.,  0.,  0.,  0.,  0.,  0.,  1.]),\n",
       " array([   6211. ,   22671.6,   39132.2,   55592.8,   72053.4,   88514. ,\n",
       "         104974.6,  121435.2,  137895.8,  154356.4,  170817. ]),\n",
       " <a list of 10 Patch objects>)"
      ]
     },
     "execution_count": 18,
     "metadata": {},
     "output_type": "execute_result"
    },
    {
     "data": {
      "image/png": "[encoded data removed]",
      "text/plain": [
       "<matplotlib.figure.Figure at 0x11bf7def0>"
      ]
     },
     "metadata": {},
     "output_type": "display_data"
    }
   ],
   "source": [
    "tempos_A = list(dataframe[dataframe.versao==\"Link\"].tempo)\n",
    "tempos_B = list(dataframe[dataframe.versao==\"Imagem\"].tempo)\n",
    "\n",
    "plt.hist(tempos_A, bins=10, alpha=0.5)\n",
    "plt.hist(tempos_B, bins=10, alpha=0.5)"
   ]
  },
  {
   "cell_type": "code",
   "execution_count": 19,
   "metadata": {
    "collapsed": false,
    "scrolled": true
   },
   "outputs": [
    {
     "name": "stdout",
     "output_type": "stream",
     "text": [
      "Grau de liberdade: 9\n",
      "Valor T: -0.10571869317899174\n",
      "A hipotese nula não foi rejeitada\n"
     ]
    }
   ],
   "source": [
    "mu1=np.mean(tempos_A)\n",
    "S1=np.var(tempos_A)**0.5\n",
    "n1=len(tempos_A)\n",
    "\n",
    "mu2=np.mean(tempos_B)\n",
    "S2=np.var(tempos_B)**0.5\n",
    "n2=len(tempos_B)\n",
    "\n",
    "#Teste T-Student\n",
    "mu3 = mu1-mu2\n",
    "\n",
    "#Distribuição T\n",
    "denominador_t = ((S1**2/n1)+(S2**2/n2))**0.5 #Raiz da soma dos desvios padrões dividido pela raiz do numero de amostras\n",
    "T=mu3/denominador_t\n",
    "\n",
    "#Grau de liberdade\n",
    "v1 = ((S1**2/n1)+(S2**2/n2))**2 \n",
    "v2 = ((S1**2/n1)**2)/(n1-1)\n",
    "v3 = ((S2**2/n2)**2)/(n2-1)\n",
    "\n",
    "v = v1/(v2+v3)\n",
    "print(\"Grau de liberdade: {0}\".format(int(v)))\n",
    "print(\"Valor T: {0}\".format(T))\n",
    "\n",
    "tc = 1.833 #a partir de um nivel de significancia de 5% e um grau de liberade = 9 , olhamos em uma tabela t para ver o valor correspondente\n",
    "\n",
    "if T>tc:\n",
    "    print(\"A hipotese nula foi rejeitada\")\n",
    "\n",
    "else:\n",
    "    print(\"A hipotese nula não foi rejeitada\")\n",
    "    "
   ]
  },
  {
   "cell_type": "markdown",
   "metadata": {},
   "source": [
    "### Conclusão"
   ]
  },
  {
   "cell_type": "code",
   "execution_count": 13,
   "metadata": {
    "collapsed": false
   },
   "outputs": [
    {
     "name": "stdout",
     "output_type": "stream",
     "text": [
      "Valor da média do teste A: 37565.0\n",
      "Valor da média do teste B: 40117.28571428572\n",
      "Valor tc em milisegundos: 44252.71987012598\n"
     ]
    }
   ],
   "source": [
    "x_barra = tc*denominador_t\n",
    "print(\"Valor da média do teste A: {0}\".format(mu1))\n",
    "print(\"Valor tc em milisegundos: {0}\".format(x_barra))"
   ]
  },
  {
   "cell_type": "markdown",
   "metadata": {},
   "source": [
    "Realizando a compração entre a média do Teste A e o valor equivalente ao tc em milisengundos podemos enxergar novamente que para um grau de significância de 5% a hipótese nula não pode ser rejeitada. Na hipótese nula, admitimos que as médias das amostras A e B são iguais e a partir disso, pudemos calcular o valor de T e o grau de liberdade corigido (v).\n",
    "A partir do resultado do nosso teste de hipóteses, podemos afirmar que as médias de tempo nas versões A e B são aproximadamente iguais (considerando um nivel de significancia de 5%) e dessa forma, não se pode afirmar que uma versão é mais eficiente que a outra. Vale ressaltar que, talvez, pelo fato de termos um n1 e n2 pequenos, nosso teste pode não condizer muito com a realidade."
   ]
  },
  {
   "cell_type": "code",
   "execution_count": null,
   "metadata": {
    "collapsed": true
   },
   "outputs": [],
   "source": []
  },
  {
   "cell_type": "code",
   "execution_count": null,
   "metadata": {
    "collapsed": true
   },
   "outputs": [],
   "source": []
  }
 ],
 "metadata": {
  "kernelspec": {
   "display_name": "Python 3",
   "language": "python",
   "name": "python3"
  },
  "language_info": {
   "codemirror_mode": {
    "name": "ipython",
    "version": 3
   },
   "file_extension": ".py",
   "mimetype": "text/x-python",
   "name": "python",
   "nbconvert_exporter": "python",
   "pygments_lexer": "ipython3",
   "version": "3.5.2"
  }
 },
 "nbformat": 4,
 "nbformat_minor": 0
}
