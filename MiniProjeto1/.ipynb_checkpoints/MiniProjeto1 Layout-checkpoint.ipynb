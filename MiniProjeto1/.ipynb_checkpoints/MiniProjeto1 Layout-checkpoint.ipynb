{
 "cells": [
  {
   "cell_type": "markdown",
   "metadata": {},
   "source": [
    "___\n",
    "# MINIPROJETO 1"
   ]
  },
  {
   "cell_type": "markdown",
   "metadata": {},
   "source": [
    "## <font color='red'>COLOQUE AQUI SEU NOME</font>\n",
    "___"
   ]
  },
  {
   "cell_type": "markdown",
   "metadata": {},
   "source": [
    "## <font color='blue'>NOME DA VARIÁVEL QUANTITATIVA ESCOLHIDA</font>"
   ]
  },
  {
   "cell_type": "markdown",
   "metadata": {},
   "source": [
    "___\n",
    "### Itens 1 a 3 - Resolução:"
   ]
  },
  {
   "cell_type": "code",
   "execution_count": 1,
   "metadata": {
    "collapsed": false
   },
   "outputs": [
    {
     "name": "stdout",
     "output_type": "stream",
     "text": [
      "Esperamos trabalhar no diretório\n",
      "C:\\Users\\Usuario\\Documents\\Ciencia dos Dados\\CD\\MiniProjeto1\n"
     ]
    }
   ],
   "source": [
    "%matplotlib inline\n",
    "import pandas as pd\n",
    "import matplotlib.pyplot as plt\n",
    "import numpy as np\n",
    "import os\n",
    "from scipy import stats\n",
    "\n",
    "print('Esperamos trabalhar no diretório')\n",
    "print(os.getcwd())"
   ]
  },
  {
   "cell_type": "code",
   "execution_count": 2,
   "metadata": {
    "collapsed": false
   },
   "outputs": [],
   "source": [
    "dados= pd.read_table(\"chegadas_2014.csv\", sep=';',encoding = \"ISO-8859-1\")"
   ]
  },
  {
   "cell_type": "code",
   "execution_count": 3,
   "metadata": {
    "collapsed": false
   },
   "outputs": [],
   "source": [
    "#dados.head()"
   ]
  },
  {
   "cell_type": "code",
   "execution_count": 4,
   "metadata": {
    "collapsed": true
   },
   "outputs": [],
   "source": [
    "dados_sp = dados[(dados.UF == \"São Paulo\")]"
   ]
  },
  {
   "cell_type": "code",
   "execution_count": 5,
   "metadata": {
    "collapsed": false
   },
   "outputs": [],
   "source": [
    "#dados_sp.head()"
   ]
  },
  {
   "cell_type": "code",
   "execution_count": 6,
   "metadata": {
    "collapsed": false
   },
   "outputs": [],
   "source": [
    "África_do_Sul = dados_sp[(dados_sp.País == 'África do Sul')]\n",
    "Angola = dados_sp[(dados_sp.País == 'Angola')]\n",
    "Cabo_Verde = dados_sp[(dados_sp.País == 'Cabo Verde')]\n",
    "Nigéria = dados_sp[(dados_sp.País == 'Nigéria')]\n",
    "Costa_Rica = dados_sp[(dados_sp.País == 'Costa Rica')]\n",
    "Cuba = dados_sp[(dados_sp.País == 'Cuba')]\n",
    "Guatemala = dados_sp[(dados_sp.País == 'Guatemala')]\n",
    "Panamá = dados_sp[(dados_sp.País == 'Panamá')]\n",
    "Canadá = dados_sp[(dados_sp.País == 'Canadá')]\n",
    "Estados_Unidos = dados_sp[(dados_sp.País == 'Estados Unidos')]\n",
    "México = dados_sp[(dados_sp.País == 'México')]\n",
    "Argentina = dados_sp[(dados_sp.País == 'Argentina')]\n",
    "Bolívia = dados_sp[(dados_sp.País == 'Bolívia')]\n",
    "Chile = dados_sp[(dados_sp.País == 'Chile')]\n",
    "Colômbia = dados_sp[(dados_sp.País == 'Colômbia')]\n",
    "Equador = dados_sp[(dados_sp.País == 'Equador')]\n",
    "Guiana_Francesa = dados_sp[(dados_sp.País == 'Guiana Francesa')]\n",
    "Paraguai = dados_sp[(dados_sp.País == 'Paraguai')]\n",
    "Peru = dados_sp[(dados_sp.País == 'Peru')]\n",
    "Guiana = dados_sp[(dados_sp.País == 'Guiana')]\n",
    "Suriname = dados_sp[(dados_sp.País == 'Suriname')]\n",
    "Uruguai = dados_sp[(dados_sp.País == 'Uruguai')]\n",
    "Venezuela = dados_sp[(dados_sp.País == 'Venezuela')]\n",
    "China = dados_sp[(dados_sp.País == 'China')]\n",
    "Índia = dados_sp[(dados_sp.País == 'Índia')]\n",
    "Israel = dados_sp[(dados_sp.País == 'Israel')]\n",
    "Japão = dados_sp[(dados_sp.País == 'Japão')]\n",
    "República_da_Coreia = dados_sp[(dados_sp.País == 'República da Coreia')]\n",
    "Alemanha = dados_sp[(dados_sp.País == 'Alemanha')]\n",
    "Áustria = dados_sp[(dados_sp.País == 'Áustria')]\n",
    "Bélgica = dados_sp[(dados_sp.País == 'Bélgica')]\n",
    "Dinamarca = dados_sp[(dados_sp.País == 'Dinamarca')]\n",
    "Espanha = dados_sp[(dados_sp.País == 'Espanha')]\n",
    "Finlândia = dados_sp[(dados_sp.País == 'Finlândia')]\n",
    "França = dados_sp[(dados_sp.País == 'França')]\n",
    "Grécia = dados_sp[(dados_sp.País == 'Grécia')]\n",
    "Holanda = dados_sp[(dados_sp.País == 'Holanda')]\n",
    "Hungria = dados_sp[(dados_sp.País == 'Hungria')]\n",
    "Reino_Unido_Inglaterra = dados_sp[(dados_sp.País == 'Reino Unido/ Inglaterra')]\n",
    "Irlanda = dados_sp[(dados_sp.País == 'Irlanda')]\n",
    "Itália = dados_sp[(dados_sp.País == 'Itália')]\n",
    "Noruega = dados_sp[(dados_sp.País == 'Noruega')]\n",
    "Polônia = dados_sp[(dados_sp.País == 'Polônia')]\n",
    "Portugal = dados_sp[(dados_sp.País == 'Portugal')]\n",
    "República_Tcheca = dados_sp[(dados_sp.País == 'República Tcheca')]\n",
    "Rússia = dados_sp[(dados_sp.País == 'Rússia')]\n",
    "Suécia = dados_sp[(dados_sp.País == 'Suécia')]\n",
    "Suíça = dados_sp[(dados_sp.País == 'Suíça')]\n",
    "Austrália = dados_sp[(dados_sp.País == 'Austrália')]\n",
    "Nova_Zelândia = dados_sp[(dados_sp.País == 'Nova Zelândia')]\n",
    "Outros_países = dados_sp[(dados_sp['Ordem país'] == 998)]\n",
    "Países_não_especificados = dados_sp[(dados_sp.País == 'Países não especificados')]"
   ]
  },
  {
   "cell_type": "code",
   "execution_count": 19,
   "metadata": {
    "collapsed": false
   },
   "outputs": [],
   "source": [
    "soma_África_do_Sul = África_do_Sul.Chegadas.sum()\n",
    "soma_Angola = Angola.Chegadas.sum()\n",
    "soma_Cabo_Verde = Cabo_Verde.Chegadas.sum()\n",
    "soma_Nigéria = Nigéria.Chegadas.sum()\n",
    "soma_Costa_Rica = Costa_Rica.Chegadas.sum()\n",
    "soma_Cuba = Cuba.Chegadas.sum()\n",
    "soma_Guatemala = Guatemala.Chegadas.sum()\n",
    "soma_Panamá = Panamá.Chegadas.sum()\n",
    "soma_Canadá = Canadá.Chegadas.sum()\n",
    "soma_Estados_Unidos = Estados_Unidos.Chegadas.sum()\n",
    "soma_México = México.Chegadas.sum()\n",
    "soma_Argentina = Argentina.Chegadas.sum()\n",
    "soma_Bolívia = Bolívia.Chegadas.sum()\n",
    "soma_Chile = Chile.Chegadas.sum()\n",
    "soma_Colômbia = Colômbia.Chegadas.sum()\n",
    "soma_Equador = Equador.Chegadas.sum()\n",
    "soma_Guiana_Francesa = Guiana_Francesa.Chegadas.sum()\n",
    "soma_Paraguai = Paraguai.Chegadas.sum()\n",
    "soma_Peru = Peru.Chegadas.sum()\n",
    "soma_Guiana = Guiana.Chegadas.sum()\n",
    "soma_Suriname = Suriname.Chegadas.sum()\n",
    "soma_Uruguai = Uruguai.Chegadas.sum()\n",
    "soma_Venezuela = Venezuela.Chegadas.sum()\n",
    "soma_China = China.Chegadas.sum()\n",
    "soma_Índia = Índia.Chegadas.sum()\n",
    "soma_Israel = Israel.Chegadas.sum()\n",
    "soma_Japão = Japão.Chegadas.sum()\n",
    "soma_República_da_Coreia = República_da_Coreia.Chegadas.sum()\n",
    "soma_Alemanha = Alemanha.Chegadas.sum()\n",
    "soma_Áustria = Áustria.Chegadas.sum()\n",
    "soma_Bélgica = Bélgica.Chegadas.sum()\n",
    "soma_Dinamarca = Dinamarca.Chegadas.sum()\n",
    "soma_Espanha = Espanha.Chegadas.sum()\n",
    "soma_Finlândia = Finlândia.Chegadas.sum()\n",
    "soma_França = França.Chegadas.sum()\n",
    "soma_Grécia = Grécia.Chegadas.sum()\n",
    "soma_Holanda = Holanda.Chegadas.sum()\n",
    "soma_Hungria = Hungria.Chegadas.sum()\n",
    "soma_Reino_Unido_Inglaterra = Reino_Unido_Inglaterra.Chegadas.sum()\n",
    "soma_Irlanda = Irlanda.Chegadas.sum()\n",
    "soma_Itália = Itália.Chegadas.sum()\n",
    "soma_Noruega = Noruega.Chegadas.sum()\n",
    "soma_Polônia = Polônia.Chegadas.sum()\n",
    "soma_Portugal = Portugal.Chegadas.sum()\n",
    "soma_República_Tcheca = República_Tcheca.Chegadas.sum()\n",
    "soma_Rússia = Rússia.Chegadas.sum()\n",
    "soma_Suécia = Suécia.Chegadas.sum()\n",
    "soma_Suíça = Suíça.Chegadas.sum()\n",
    "soma_Austrália = Austrália.Chegadas.sum()\n",
    "soma_Nova_Zelândia = Nova_Zelândia.Chegadas.sum()\n",
    "soma_Outros_países = Outros_países.Chegadas.sum()\n",
    "soma_Países_não_especificados = Países_não_especificados.Chegadas.sum()\n",
    "\n",
    "lista = ['Países_não_especificados','Outros_países','Nova_Zelândia','Austrália','Suíça','Suécia','Rússia','República_Tcheca','Portugal','Polônia','Noruega','Itália','Irlanda','Reino_Unido_Inglaterra','Hungria','Holanda','Grécia','França','Finlândia','Espanha','Dinamarca','Bélgica','Áustria','Alemanha','República_da_Coreia','Japão','Israel','Índia','China','Venezuela','Uruguai','Suriname','Guiana','Peru','Paraguai','Guiana_Francesa','Equador','Colômbia','Chile','Bolívia','Argentina','México','Estados_Unidos','Canadá','Panamá','Guatemala','Cuba','Costa_Rica','Nigéria','Cabo_Verde','Angola','África_do_Sul']\n",
    "lista_soma = [soma_Países_não_especificados,soma_Outros_países,soma_Nova_Zelândia,soma_Austrália,soma_Suíça,soma_Suécia,soma_Rússia,soma_República_Tcheca,soma_Portugal,soma_Polônia,soma_Noruega,soma_Itália,soma_Irlanda,soma_Reino_Unido_Inglaterra,soma_Hungria,soma_Holanda,soma_Grécia,soma_França,soma_Finlândia,soma_Espanha,soma_Dinamarca,soma_Bélgica,soma_Áustria,soma_Alemanha,soma_República_da_Coreia,soma_Japão,soma_Israel,soma_Índia,soma_China,soma_Venezuela,soma_Uruguai,soma_Suriname,soma_Guiana,soma_Peru,soma_Paraguai,soma_Guiana_Francesa,soma_Equador,soma_Colômbia,soma_Chile,soma_Bolívia,soma_Argentina,soma_México,soma_Estados_Unidos,soma_Canadá,soma_Panamá,soma_Guatemala,soma_Cuba,soma_Costa_Rica,soma_Nigéria,soma_Cabo_Verde,soma_Angola,soma_África_do_Sul]\n",
    "\n",
    "\n",
    "\n",
    "\n",
    "paises = pd.Series(lista_soma, index=[lista])\n",
    "paises = paises.sort_values(ascending=False)\n"
   ]
  },
  {
   "cell_type": "code",
   "execution_count": 17,
   "metadata": {
    "collapsed": false
   },
   "outputs": [
    {
     "data": {
      "text/plain": [
       "<matplotlib.text.Text at 0x1e08a107780>"
      ]
     },
     "execution_count": 17,
     "metadata": {},
     "output_type": "execute_result"
    },
    {
     "data": {
      "image/png": "[encoded data removed]",
      "text/plain": [
       "<matplotlib.figure.Figure at 0x1e089f59940>"
      ]
     },
     "metadata": {},
     "output_type": "display_data"
    }
   ],
   "source": [
    "fig1 = plt.figure(figsize=(10,10))\n",
    "\n",
    "paises.plot.hist(normed=True)\n",
    "plt.title('Histograma dos dados')\n",
    "#plt.ylabel('Frequencia Relativa')\n",
    "#plt.xlabel('Numero de pessoas que chegam')"
   ]
  },
  {
   "cell_type": "markdown",
   "metadata": {
    "collapsed": true
   },
   "source": [
    "___\n",
    "### Itens 4 a 6 - Resolução:"
   ]
  },
  {
   "cell_type": "code",
   "execution_count": 9,
   "metadata": {
    "collapsed": false
   },
   "outputs": [
    {
     "name": "stdout",
     "output_type": "stream",
     "text": [
      "mu: 42690.71153846154\n",
      "sigma: 4230903613.89555\n"
     ]
    }
   ],
   "source": [
    "mu = paises.mean()\n",
    "sigma = paises.var()\n",
    "print('mu: {0}'.format(mu))\n",
    "print('sigma: {0}'.format(sigma))"
   ]
  },
  {
   "cell_type": "markdown",
   "metadata": {
    "collapsed": true
   },
   "source": [
    "### k para a gamma é escolhido baseado na forma do histograma e no efeito que k tem na forma da gamma"
   ]
  },
  {
   "cell_type": "code",
   "execution_count": 10,
   "metadata": {
    "collapsed": true
   },
   "outputs": [],
   "source": [
    "k_gamma = 2"
   ]
  },
  {
   "cell_type": "markdown",
   "metadata": {},
   "source": [
    "### Estimamos theta da distribuição gamma"
   ]
  },
  {
   "cell_type": "code",
   "execution_count": 11,
   "metadata": {
    "collapsed": false
   },
   "outputs": [
    {
     "name": "stdout",
     "output_type": "stream",
     "text": [
      "21345.35576923077\n"
     ]
    }
   ],
   "source": [
    "theta_gamma = mu/k_gamma\n",
    "print(theta_gamma)\n",
    "\n",
    "x = np.linspace(0, 350000, 1000)\n",
    "gamma = stats.gamma.pdf(x, scale=theta_gamma, loc=1, a=k_gamma)\n",
    "\n",
    "exponencial = stats.expon.pdf(x, loc=1, scale=mu)"
   ]
  },
  {
   "cell_type": "code",
   "execution_count": 12,
   "metadata": {
    "collapsed": false
   },
   "outputs": [
    {
     "data": {
      "text/plain": [
       "<matplotlib.text.Text at 0x1e089d9c9e8>"
      ]
     },
     "execution_count": 12,
     "metadata": {},
     "output_type": "execute_result"
    },
    {
     "data": {
      "image/png": "[encoded data removed]",
      "text/plain": [
       "<matplotlib.figure.Figure at 0x1e089759518>"
      ]
     },
     "metadata": {},
     "output_type": "display_data"
    }
   ],
   "source": [
    "fig2 = plt.figure(figsize=(10,10))\n",
    "\n",
    "paises.plot.hist(normed=True)\n",
    "\n",
    "plt.plot(x, gamma, '-', color='green', label=\"Gamma\") \n",
    "plt.plot(x, exponencial, '-', color='red', label=\"Exponencial\")\n",
    "\n",
    "\n",
    "plt.title('Histograma dos dados')\n",
    "plt.ylabel('Frequencia Relativa')\n",
    "plt.xlabel('Numero de pessoas que chegam')\n",
    "#plt.legend()"
   ]
  },
  {
   "cell_type": "markdown",
   "metadata": {},
   "source": [
    "### Utilizei a função .fit() para fazer estimativa dos parâmetros da família de distribuições escolhida."
   ]
  },
  {
   "cell_type": "code",
   "execution_count": 13,
   "metadata": {
    "collapsed": false
   },
   "outputs": [
    {
     "name": "stdout",
     "output_type": "stream",
     "text": [
      "FIT GAMMA: (0.00010494916774901478, 0.99999999999999989, 3.5515462478864537)\n",
      "Valores estimados para gamma: (21345.35576923077, 1, 2)\n"
     ]
    }
   ],
   "source": [
    "print(\"FIT GAMMA: {0}\".format(stats.gamma.fit(paises)))\n",
    "print('Valores estimados para gamma: ({0}, {1}, {2})'.format(theta_gamma,1,k_gamma))\n",
    "\n",
    "y,j,l= stats.gamma.fit(paises)\n"
   ]
  },
  {
   "cell_type": "code",
   "execution_count": 14,
   "metadata": {
    "collapsed": false
   },
   "outputs": [
    {
     "name": "stdout",
     "output_type": "stream",
     "text": [
      "FIT EXPONENCIAL: (0.99999999999246492, 42689.709766315696)\n",
      "Valores estimados para exponencial: (1, 42690.71153846154)\n"
     ]
    }
   ],
   "source": [
    "print(\"FIT EXPONENCIAL: {0}\".format(stats.expon.fit(paises)))\n",
    "print('Valores estimados para exponencial: ({0}, {1})'.format(1,mu))\n",
    "\n",
    "h,o = stats.expon.fit(paises)"
   ]
  },
  {
   "cell_type": "code",
   "execution_count": 25,
   "metadata": {
    "collapsed": false
   },
   "outputs": [],
   "source": [
    "theta_gamma = mu/k_gamma\n",
    "\n",
    "gamma = stats.gamma.pdf(x, scale=theta_gamma, loc=j, a=k_gamma)\n",
    "\n",
    "exponencial = stats.expon.pdf(x, loc=h, scale=o)"
   ]
  },
  {
   "cell_type": "code",
   "execution_count": 26,
   "metadata": {
    "collapsed": false
   },
   "outputs": [
    {
     "data": {
      "text/plain": [
       "[<matplotlib.lines.Line2D at 0x1e08a443048>]"
      ]
     },
     "execution_count": 26,
     "metadata": {},
     "output_type": "execute_result"
    },
    {
     "data": {
      "image/png": "[encoded data removed]",
      "text/plain": [
       "<matplotlib.figure.Figure at 0x1e08a443080>"
      ]
     },
     "metadata": {},
     "output_type": "display_data"
    }
   ],
   "source": [
    "fig3 = plt.figure(figsize=(10,10))\n",
    "\n",
    "paises.plot.hist(normed=True)\n",
    "\n",
    "plt.plot(x, gamma, '-', color='green', label=\"Gamma\") \n",
    "plt.plot(x, exponencial, '-', color='red', label=\"Exponencial\")"
   ]
  }
 ],
 "metadata": {
  "anaconda-cloud": {},
  "kernelspec": {
   "display_name": "Python 3",
   "language": "python",
   "name": "python3"
  },
  "language_info": {
   "codemirror_mode": {
    "name": "ipython",
    "version": 3
   },
   "file_extension": ".py",
   "mimetype": "text/x-python",
   "name": "python",
   "nbconvert_exporter": "python",
   "pygments_lexer": "ipython3",
   "version": "3.5.2"
  }
 },
 "nbformat": 4,
 "nbformat_minor": 0
}
