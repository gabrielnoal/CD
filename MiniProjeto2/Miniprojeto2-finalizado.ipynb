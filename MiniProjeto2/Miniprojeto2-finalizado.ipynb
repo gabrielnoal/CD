{
 "cells": [
  {
   "cell_type": "markdown",
   "metadata": {},
   "source": [
    "# MiniProjeto2\n"
   ]
  },
  {
   "cell_type": "markdown",
   "metadata": {},
   "source": [
    "## Michel Haikewitsch e Gabriel Noal"
   ]
  },
  {
   "cell_type": "code",
   "execution_count": 129,
   "metadata": {
    "collapsed": false
   },
   "outputs": [],
   "source": [
    "#vamos importar tudo o que precisa\n",
    "%matplotlib inline\n",
    "import pandas as pd\n",
    "import matplotlib.pyplot as plt\n",
    "import numpy as np\n",
    "import os\n",
    "from scipy import stats\n",
    "import math \n",
    "from scipy.stats import t\n",
    "import random"
   ]
  },
  {
   "cell_type": "code",
   "execution_count": 130,
   "metadata": {
    "collapsed": false
   },
   "outputs": [
    {
     "name": "stdout",
     "output_type": "stream",
     "text": [
      "[ 2.77189092  2.78571751  3.58308541 ...,  3.53295285  0.14426292\n",
      " -1.56568226]\n",
      "A média é 2.99921836322\n",
      "A Variância é 13.8246806455\n"
     ]
    }
   ],
   "source": [
    "amostra = stats.t.rvs(2, loc=3, scale=1, size=1000000)\n",
    "print(amostra)\n",
    "media_a=np.mean(amostra)\n",
    "variancia_a=np.var(amostra)\n",
    "print(\"A média é\", media_a)\n",
    "print(\"A Variância é\", variancia_a)\n",
    "\n"
   ]
  },
  {
   "cell_type": "markdown",
   "metadata": {},
   "source": [
    "### Definição da função:"
   ]
  },
  {
   "cell_type": "code",
   "execution_count": 131,
   "metadata": {
    "collapsed": false
   },
   "outputs": [],
   "source": [
    "media=np.mean\n",
    "def amostras(n):\n",
    "    lista_amostras = [] #media amostras\n",
    "\n",
    "    for i in range(10000): # repetindo 10 mil vezes\n",
    "        lista_range = [] #lista da repetição vazia\n",
    "\n",
    "        for w in range(n):      \n",
    "            lista_range.append(np.random.choice(amostra)) #colocando a media amostral na lista\n",
    "\n",
    "        Media_final = media(lista_range) #pega a média da lista\n",
    "       \n",
    "        lista_amostras.append(Media_final)\n",
    "\n",
    "    media_amostras = np.mean(lista_amostras) #calcula a média e guarda\n",
    "    variancia_amostras = np.var(lista_amostras) #cal\n",
    "\n",
    "\n",
    "   \n",
    "    lista_amostras = sorted(lista_amostras)\n",
    "    pd.Series(lista_amostras)\n",
    "\n",
    "    plt.hist(lista_amostras, bins =np.arange(0,10,0.1), normed = True, )\n",
    "    plt.title(\"Histograma para n={0} valores medidos\" .format(n))\n",
    "    print(\"A média das amostras vale \",media_amostras)\n",
    "    print(\"A Variância das amostras vale\",variancia_amostras)\n",
    "\n"
   ]
  },
  {
   "cell_type": "markdown",
   "metadata": {},
   "source": [
    "### Para n = 2"
   ]
  },
  {
   "cell_type": "code",
   "execution_count": 132,
   "metadata": {
    "collapsed": false
   },
   "outputs": [
    {
     "name": "stdout",
     "output_type": "stream",
     "text": [
      "A média das amostras vale  3.01400793193\n",
      "A Variância das amostras vale 5.1200178104\n"
     ]
    },
    {
     "data": {
      "image/png": "[encoded data removed]",
      "text/plain": [
       "<matplotlib.figure.Figure at 0x1e0a77efa58>"
      ]
     },
     "metadata": {},
     "output_type": "display_data"
    }
   ],
   "source": [
    "amostras(2)"
   ]
  },
  {
   "cell_type": "markdown",
   "metadata": {},
   "source": [
    "### Para n = 4"
   ]
  },
  {
   "cell_type": "code",
   "execution_count": 133,
   "metadata": {
    "collapsed": false
   },
   "outputs": [
    {
     "name": "stdout",
     "output_type": "stream",
     "text": [
      "A média das amostras vale  2.99376074346\n",
      "A Variância das amostras vale 3.26483635292\n"
     ]
    },
    {
     "data": {
      "image/png": "[encoded data removed]",
      "text/plain": [
       "<matplotlib.figure.Figure at 0x1e0a74307b8>"
      ]
     },
     "metadata": {},
     "output_type": "display_data"
    }
   ],
   "source": [
    "amostras(4)"
   ]
  },
  {
   "cell_type": "markdown",
   "metadata": {},
   "source": [
    "### Para n = 20"
   ]
  },
  {
   "cell_type": "code",
   "execution_count": 134,
   "metadata": {
    "collapsed": false
   },
   "outputs": [
    {
     "name": "stdout",
     "output_type": "stream",
     "text": [
      "A média das amostras vale  3.00089869152\n",
      "A Variância das amostras vale 0.682238633858\n"
     ]
    },
    {
     "data": {
      "image/png": "[encoded data removed]",
      "text/plain": [
       "<matplotlib.figure.Figure at 0x1e0a774ac88>"
      ]
     },
     "metadata": {},
     "output_type": "display_data"
    }
   ],
   "source": [
    "amostras(20)"
   ]
  },
  {
   "cell_type": "markdown",
   "metadata": {},
   "source": [
    "### Para n = 50"
   ]
  },
  {
   "cell_type": "code",
   "execution_count": 135,
   "metadata": {
    "collapsed": false
   },
   "outputs": [
    {
     "name": "stdout",
     "output_type": "stream",
     "text": [
      "A média das amostras vale  2.99673122857\n",
      "A Variância das amostras vale 0.233381067487\n"
     ]
    },
    {
     "data": {
      "image/png": "[encoded data removed]",
      "text/plain": [
       "<matplotlib.figure.Figure at 0x1e0a7a289e8>"
      ]
     },
     "metadata": {},
     "output_type": "display_data"
    }
   ],
   "source": [
    "amostras(50)"
   ]
  },
  {
   "cell_type": "markdown",
   "metadata": {},
   "source": [
    "### EXTRA: Para n = 100"
   ]
  },
  {
   "cell_type": "code",
   "execution_count": 136,
   "metadata": {
    "collapsed": false
   },
   "outputs": [
    {
     "name": "stdout",
     "output_type": "stream",
     "text": [
      "A média das amostras vale  3.00059762912\n",
      "A Variância das amostras vale 0.133073547868\n"
     ]
    },
    {
     "data": {
      "image/png": "[encoded data removed]",
      "text/plain": [
       "<matplotlib.figure.Figure at 0x1e0a72e02e8>"
      ]
     },
     "metadata": {},
     "output_type": "display_data"
    }
   ],
   "source": [
    "amostras(100)"
   ]
  },
  {
   "cell_type": "markdown",
   "metadata": {
    "collapsed": false
   },
   "source": [
    "### Conclusão: concluímos que conforme aumenta o n, a média se aproxima do limite central"
   ]
  },
  {
   "cell_type": "code",
   "execution_count": 137,
   "metadata": {
    "collapsed": false
   },
   "outputs": [
    {
     "name": "stdout",
     "output_type": "stream",
     "text": [
      "[ 3.98918077  3.61841391  1.96388125 ...,  8.52405093  2.18626779\n",
      "  3.53363813]\n",
      "A média é 3.0024500573\n",
      "A Variância é 13.0118895431\n"
     ]
    }
   ],
   "source": [
    "amostra = stats.t.rvs(2, loc=3, scale=1, size=1000000)\n",
    "print(amostra)\n",
    "media_a=np.mean(amostra)\n",
    "variancia_a=np.var(amostra)\n",
    "print(\"A média é\", media_a)\n",
    "print(\"A Variância é\", variancia_a)"
   ]
  },
  {
   "cell_type": "code",
   "execution_count": 138,
   "metadata": {
    "collapsed": false
   },
   "outputs": [],
   "source": [
    "def amostras_1_9(n=50, retorna='não'): # Se for passado como argumento retorna=\"sim\" a função retorna uma lista de lista onde o indice 0 é a lista_1 e o indice 1 é a lista 9\n",
    "    lista_1 = [] #lista dos 1o valores\n",
    "    lista_9 = [] #lista dos 9o valores\n",
    "    \n",
    "    for i in range(10000): # repetindo 10 mil vezes\n",
    "        lista_range = [] #lista da repetição vazia\n",
    "\n",
    "        for w in range(n):      \n",
    "            lista_range.append(np.random.choice(amostra)) #colocando a media amostral na lista\n",
    "            \n",
    "        lista_1.append(lista_range[0]) # Pega o primeiro valor\n",
    "        lista_9.append(lista_range[8]) # Pega o novo valor\n",
    "\n",
    "#        Media_final = media(lista_range) #pega a média da lista\n",
    "       \n",
    "#        lista_amostras.append(Media_final)\n",
    "\n",
    "    media_lista_1 = np.mean(lista_1) #calcula a média dos primeiros valores\n",
    "    variancia_lista_1 = np.var(lista_1) #calcula a variancia dos primeiros valores\n",
    "\n",
    "    media_lista_9 = np.mean(lista_9) #calcula a média dos nonos valores\n",
    "    variancia_lista_9 = np.var(lista_9) #calcula a variancia dos nonos valores\n",
    "    \n",
    "    lista_1 = sorted(lista_1) # Ordena\n",
    "    lista_9 = sorted(lista_9) # Ordena\n",
    "    if retorna == \"sim\":\n",
    "        return [lista_1,lista_9]\n",
    "    else:\n",
    "        pd.Series(lista_1)\n",
    "        hist_1 = plt.figure(1)\n",
    "\n",
    "        plt.hist(lista_1, bins =np.arange(0,10,0.3), normed = True, )\n",
    "        plt.title(\"Histograma dos primeiros valores medidos\")\n",
    "\n",
    "        plt.show(hist_1)\n",
    "\n",
    "        print(\"A média da lista 1 amostras \",media_lista_1)\n",
    "        print(\"A Variância da lista 1 vale\",variancia_lista_1)\n",
    "\n",
    "        pd.Series(lista_9)\n",
    "\n",
    "        hist_9 = plt.figure(2)\n",
    "        plt.hist(lista_9, bins =np.arange(0,10,0.3), normed = True, )\n",
    "        plt.title(\"Histograma dos nonos valores medidos\")\n",
    "        plt.show(hist_9)\n",
    "\n",
    "\n",
    "        print(\"A média da lista 9 vale \",media_lista_9)\n",
    "        print(\"A Variância da lista 1 vale\",variancia_lista_9)\n",
    "    "
   ]
  },
  {
   "cell_type": "code",
   "execution_count": 139,
   "metadata": {
    "collapsed": false
   },
   "outputs": [
    {
     "data": {
      "image/png": "[encoded data removed]",
      "text/plain": [
       "<matplotlib.figure.Figure at 0x1e0a741dc50>"
      ]
     },
     "metadata": {},
     "output_type": "display_data"
    },
    {
     "name": "stdout",
     "output_type": "stream",
     "text": [
      "A média da lista 1 amostras  3.13423538032\n",
      "A Variância da lista 1 vale 64.2145240198\n"
     ]
    },
    {
     "data": {
      "image/png": "[encoded data removed]",
      "text/plain": [
       "<matplotlib.figure.Figure at 0x1e0a7ac9c50>"
      ]
     },
     "metadata": {},
     "output_type": "display_data"
    },
    {
     "name": "stdout",
     "output_type": "stream",
     "text": [
      "A média da lista 9 vale  2.95731795806\n",
      "A Variância da lista 1 vale 38.4035592919\n"
     ]
    }
   ],
   "source": [
    "amostras_1_9()"
   ]
  },
  {
   "cell_type": "markdown",
   "metadata": {},
   "source": [
    "### Comparando a distribuição de X com X1 e X9, percebemos que são bem próximas."
   ]
  },
  {
   "cell_type": "code",
   "execution_count": 147,
   "metadata": {
    "collapsed": false
   },
   "outputs": [],
   "source": [
    "n=50\n",
    "lista_1 = [] #lista dos 1o valores\n",
    "lista_9 = [] #lista dos 9o valores\n",
    "    \n",
    "for i in range(10000): # repetindo 10 mil vezes\n",
    "    lista_range = [] #lista da repetição vazia\n",
    "\n",
    "    for w in range(n):      \n",
    "        lista_range.append(np.random.choice(amostra)) #colocando a media amostral na lista\n",
    "            \n",
    "    lista_1.append(lista_range[0]) # Pega o primeiro valor\n",
    "    lista_9.append(lista_range[8]) # Pega o novo valor\n",
    "\n",
    "\n",
    "media_lista_1 = np.mean(lista_1) #calcula a média dos primeiros valores\n",
    "variancia_lista_1 = np.var(lista_1) #calcula a variancia dos primeiros valores\n",
    "\n",
    "media_lista_9 = np.mean(lista_9) #calcula a média dos nonos valores\n",
    "variancia_lista_9 = np.var(lista_9) #calcula a variancia dos nonos valores\n",
    "    \n",
    "lista_1 = sorted(lista_1) # Ordena\n",
    "lista_9 = sorted(lista_9) # Ordena\n"
   ]
  },
  {
   "cell_type": "code",
   "execution_count": 148,
   "metadata": {
    "collapsed": false
   },
   "outputs": [
    {
     "name": "stdout",
     "output_type": "stream",
     "text": [
      "O valor da correlação é  0.958945967628\n"
     ]
    }
   ],
   "source": [
    "\n",
    "covariancia=0\n",
    "for i in range(len(lista_1)):\n",
    "    covariancia+=(lista_1[i]-np.mean(lista_1))*(lista_9[i]-np.mean(lista_9))/(len(lista_1))\n",
    "correlacao=covariancia/(np.var(lista_1)*np.var(lista_9))**0.5\n",
    "print(\"O valor da correlação é \", correlacao)"
   ]
  },
  {
   "cell_type": "markdown",
   "metadata": {},
   "source": [
    "### Pelos valores calculados, a correlação está próxima de 1, ou seja, não são independentes"
   ]
  }
 ],
 "metadata": {
  "kernelspec": {
   "display_name": "Python 3",
   "language": "python",
   "name": "python3"
  },
  "language_info": {
   "codemirror_mode": {
    "name": "ipython",
    "version": 3
   },
   "file_extension": ".py",
   "mimetype": "text/x-python",
   "name": "python",
   "nbconvert_exporter": "python",
   "pygments_lexer": "ipython3",
   "version": "3.5.2"
  }
 },
 "nbformat": 4,
 "nbformat_minor": 0
}
