{
 "cells": [
  {
   "cell_type": "markdown",
   "metadata": {},
   "source": [
    "___\n",
    "# PROJETO 1"
   ]
  },
  {
   "cell_type": "markdown",
   "metadata": {},
   "source": [
    "## <font color='red'>Gabriel Noal</font>\n",
    "___"
   ]
  },
  {
   "cell_type": "markdown",
   "metadata": {},
   "source": [
    "## <font color='blue'>TÍTULO DO SEU PROJETO</font>"
   ]
  },
  {
   "cell_type": "markdown",
   "metadata": {},
   "source": [
    "## Introdução\n",
    "\n",
    "Hoje sabemos que para garantir uma boa aposentadoria no futuro é nescessario estudar muito ao longo da vida, através de analise de dados da PNAD 2014 verificaremos se isso é verdade ou não.\n",
    "\n"
   ]
  },
  {
   "cell_type": "markdown",
   "metadata": {},
   "source": [
    "___\n",
    "## Análise e Resultados"
   ]
  },
  {
   "cell_type": "code",
   "execution_count": 1,
   "metadata": {
    "collapsed": true
   },
   "outputs": [],
   "source": [
    "%matplotlib inline\n",
    "import pandas as pd\n",
    "import matplotlib.pyplot as plt\n",
    "import numpy as np\n",
    "import os"
   ]
  },
  {
   "cell_type": "code",
   "execution_count": 2,
   "metadata": {
    "collapsed": false
   },
   "outputs": [
    {
     "name": "stdout",
     "output_type": "stream",
     "text": [
      "Esperamos trabalhar no diretório\n",
      "C:\\Users\\Usuario\\Documents\\Ciencia dos Dados\\Projeto1\n"
     ]
    }
   ],
   "source": [
    "print('Esperamos trabalhar no diretório')\n",
    "print(os.getcwd())"
   ]
  },
  {
   "cell_type": "code",
   "execution_count": 3,
   "metadata": {
    "collapsed": false
   },
   "outputs": [],
   "source": [
    "\"\"\"Vamos ler a estrutura da PNAD como um dataframe.\n",
    "    São muitas colunas e precisamos usar a informação de tamanho para ler a PNAD de fato\n",
    "    como uma base de tamanho fixo\"\"\"\n",
    "estrutura = pd.read_table(\"pes_py.txt\", sep=\";\")"
   ]
  },
  {
   "cell_type": "code",
   "execution_count": 4,
   "metadata": {
    "collapsed": false,
    "scrolled": true
   },
   "outputs": [],
   "source": [
    "#estrutura.head()"
   ]
  },
  {
   "cell_type": "code",
   "execution_count": 5,
   "metadata": {
    "collapsed": false
   },
   "outputs": [],
   "source": [
    "# Se quiser uma leitura mais rápida, use o arquivo descompactado. Não esqueça de adicionar ao seu .gitignore\n",
    "dados = pd.read_fwf(\"PES2014.txt\", widths=estrutura.Tamanho, header=None)\n",
    "\n",
    "# Se quiser economizar espaço, use o arquivo Zip\n",
    "#dados = pd.read_fwf(\"PES2014.zip\", widths=estrutura.Tamanho, header=None, compression=\"zip\")"
   ]
  },
  {
   "cell_type": "code",
   "execution_count": 6,
   "metadata": {
    "collapsed": false
   },
   "outputs": [],
   "source": [
    "#dados.head()"
   ]
  },
  {
   "cell_type": "code",
   "execution_count": 7,
   "metadata": {
    "collapsed": false
   },
   "outputs": [
    {
     "data": {
      "text/plain": [
       "Index(['Coluna', 'Tamanho', 'Título'], dtype='object')"
      ]
     },
     "execution_count": 7,
     "metadata": {},
     "output_type": "execute_result"
    }
   ],
   "source": [
    "estrutura.columns"
   ]
  },
  {
   "cell_type": "code",
   "execution_count": 8,
   "metadata": {
    "collapsed": false
   },
   "outputs": [],
   "source": [
    "dados.columns = estrutura.Coluna"
   ]
  },
  {
   "cell_type": "code",
   "execution_count": 9,
   "metadata": {
    "collapsed": false,
    "scrolled": true
   },
   "outputs": [],
   "source": [
    "#dados.head()"
   ]
  },
  {
   "cell_type": "code",
   "execution_count": 10,
   "metadata": {
    "collapsed": true
   },
   "outputs": [],
   "source": [
    "'''Renomeando'''\n",
    "dados.rename(columns={\"V9122\":\"APOSENTADO\"}, inplace=True)\n",
    "dados.rename(columns={\"V8005\":\"IDADE\"}, inplace=True)\n",
    "dados.rename(columns={\"V0302\":\"SEXO\"}, inplace=True)\n",
    "dados.rename(columns={\"V6002\":\"REDE DE ENSINO\"}, inplace=True)\n",
    "dados.rename(columns={\"V4802\":\"NÍVEL DE ENSINO E GRUPOS DE SÉRIES DO ENSINO FUNDAMENTAL QUE FREQUENTAVAM (TODOS OS ESTUDANTES)\"}, inplace=True)\n",
    "dados.rename(columns={\"V5030\":\"LUGAR DE NASCIMENTO\"}, inplace=True)\n",
    "dados.rename(columns={'V4742':'RENDA MENSAL'},inplace=True)\n",
    "dados.rename(columns={'V1252':'APOSENTADORIA'},inplace=True)\n",
    "dados.rename(columns={'V4803':'Anos de estudo'},inplace=True)\n",
    "\n",
    "'''Criando Região'''\n",
    "\n",
    "dados[\"REGIAO\"] = dados[\"UF\"]"
   ]
  },
  {
   "cell_type": "code",
   "execution_count": 13,
   "metadata": {
    "collapsed": false
   },
   "outputs": [],
   "source": [
    "'''Classificado como Qualitativa ou quantitatva'''\n",
    "dados[\"APOSENTADO\"] = dados[\"APOSENTADO\"].astype(\"category\")\n",
    "dados[\"SEXO\"] = dados[\"SEXO\"].astype(\"category\")\n",
    "dados[\"REDE DE ENSINO\"] = dados[\"REDE DE ENSINO\"].astype(\"category\")\n",
    "dados[\"NÍVEL DE ENSINO E GRUPOS DE SÉRIES DO ENSINO FUNDAMENTAL QUE FREQUENTAVAM (TODOS OS ESTUDANTES)\"] = dados[\"NÍVEL DE ENSINO E GRUPOS DE SÉRIES DO ENSINO FUNDAMENTAL QUE FREQUENTAVAM (TODOS OS ESTUDANTES)\"].astype('category')\n",
    "dados[\"UF\"] = dados[\"UF\"].astype('category', ordered=True)\n",
    "dados['Anos de estudo'] = dados['Anos de estudo'].astype('category')\n",
    "\n",
    "\n",
    "dados.loc[(dados.UF <= 17),'REGIAO'] = \"Norte\"\n",
    "dados.loc[(dados.UF > 17) & (dados.UF <= 29),'REGIAO'] = \"Nordeste\"\n",
    "dados.loc[(dados.UF <= 31) & (dados.UF <= 35),'REGIAO'] = \"Sudeste\"\n",
    "dados.loc[(dados.UF <= 41) & (dados.UF <= 43),'REGIAO'] = \"Sul\"\n",
    "dados.loc[(dados.UF > 43),'REGIAO'] = \"Centro-Oeste\""
   ]
  },
  {
   "cell_type": "code",
   "execution_count": 15,
   "metadata": {
    "collapsed": false
   },
   "outputs": [
    {
     "data": {
      "text/html": [
       "<div>\n",
       "<table border=\"1\" class=\"dataframe\">\n",
       "  <thead>\n",
       "    <tr style=\"text-align: right;\">\n",
       "      <th>Coluna</th>\n",
       "      <th>V0101</th>\n",
       "      <th>UF</th>\n",
       "      <th>V0102</th>\n",
       "      <th>V0103</th>\n",
       "      <th>V0301</th>\n",
       "      <th>SEXO</th>\n",
       "      <th>V3031</th>\n",
       "      <th>V3032</th>\n",
       "      <th>V3033</th>\n",
       "      <th>IDADE</th>\n",
       "      <th>...</th>\n",
       "      <th>RENDA MENSAL</th>\n",
       "      <th>V4743</th>\n",
       "      <th>V4745</th>\n",
       "      <th>V4746</th>\n",
       "      <th>V4747</th>\n",
       "      <th>V4748</th>\n",
       "      <th>V4749</th>\n",
       "      <th>V4750</th>\n",
       "      <th>V9993</th>\n",
       "      <th>REGIAO</th>\n",
       "    </tr>\n",
       "  </thead>\n",
       "  <tbody>\n",
       "    <tr>\n",
       "      <th>0</th>\n",
       "      <td>2014</td>\n",
       "      <td>Rondônia</td>\n",
       "      <td>15</td>\n",
       "      <td>1</td>\n",
       "      <td>1</td>\n",
       "      <td>HOMEM</td>\n",
       "      <td>19</td>\n",
       "      <td>8</td>\n",
       "      <td>1987</td>\n",
       "      <td>27</td>\n",
       "      <td>...</td>\n",
       "      <td>500.0</td>\n",
       "      <td>3.0</td>\n",
       "      <td>3</td>\n",
       "      <td>1.0</td>\n",
       "      <td>2.0</td>\n",
       "      <td>2.0</td>\n",
       "      <td>1.0</td>\n",
       "      <td>500.0</td>\n",
       "      <td>20160623</td>\n",
       "      <td>Sul</td>\n",
       "    </tr>\n",
       "    <tr>\n",
       "      <th>1</th>\n",
       "      <td>2014</td>\n",
       "      <td>Rondônia</td>\n",
       "      <td>15</td>\n",
       "      <td>1</td>\n",
       "      <td>2</td>\n",
       "      <td>MULHER</td>\n",
       "      <td>19</td>\n",
       "      <td>1</td>\n",
       "      <td>1986</td>\n",
       "      <td>28</td>\n",
       "      <td>...</td>\n",
       "      <td>500.0</td>\n",
       "      <td>3.0</td>\n",
       "      <td>4</td>\n",
       "      <td>2.0</td>\n",
       "      <td>NaN</td>\n",
       "      <td>2.0</td>\n",
       "      <td>1.0</td>\n",
       "      <td>500.0</td>\n",
       "      <td>20160623</td>\n",
       "      <td>Sul</td>\n",
       "    </tr>\n",
       "    <tr>\n",
       "      <th>2</th>\n",
       "      <td>2014</td>\n",
       "      <td>Rondônia</td>\n",
       "      <td>15</td>\n",
       "      <td>1</td>\n",
       "      <td>3</td>\n",
       "      <td>HOMEM</td>\n",
       "      <td>14</td>\n",
       "      <td>5</td>\n",
       "      <td>2013</td>\n",
       "      <td>1</td>\n",
       "      <td>...</td>\n",
       "      <td>500.0</td>\n",
       "      <td>3.0</td>\n",
       "      <td>1</td>\n",
       "      <td>NaN</td>\n",
       "      <td>NaN</td>\n",
       "      <td>NaN</td>\n",
       "      <td>NaN</td>\n",
       "      <td>500.0</td>\n",
       "      <td>20160623</td>\n",
       "      <td>Sul</td>\n",
       "    </tr>\n",
       "    <tr>\n",
       "      <th>3</th>\n",
       "      <td>2014</td>\n",
       "      <td>Rondônia</td>\n",
       "      <td>15</td>\n",
       "      <td>2</td>\n",
       "      <td>1</td>\n",
       "      <td>HOMEM</td>\n",
       "      <td>8</td>\n",
       "      <td>4</td>\n",
       "      <td>1963</td>\n",
       "      <td>51</td>\n",
       "      <td>...</td>\n",
       "      <td>1150.0</td>\n",
       "      <td>4.0</td>\n",
       "      <td>2</td>\n",
       "      <td>1.0</td>\n",
       "      <td>2.0</td>\n",
       "      <td>2.0</td>\n",
       "      <td>1.0</td>\n",
       "      <td>1150.0</td>\n",
       "      <td>20160623</td>\n",
       "      <td>Sul</td>\n",
       "    </tr>\n",
       "    <tr>\n",
       "      <th>4</th>\n",
       "      <td>2014</td>\n",
       "      <td>Rondônia</td>\n",
       "      <td>15</td>\n",
       "      <td>2</td>\n",
       "      <td>2</td>\n",
       "      <td>MULHER</td>\n",
       "      <td>6</td>\n",
       "      <td>11</td>\n",
       "      <td>1970</td>\n",
       "      <td>43</td>\n",
       "      <td>...</td>\n",
       "      <td>1150.0</td>\n",
       "      <td>4.0</td>\n",
       "      <td>3</td>\n",
       "      <td>1.0</td>\n",
       "      <td>2.0</td>\n",
       "      <td>2.0</td>\n",
       "      <td>1.0</td>\n",
       "      <td>1150.0</td>\n",
       "      <td>20160623</td>\n",
       "      <td>Sul</td>\n",
       "    </tr>\n",
       "  </tbody>\n",
       "</table>\n",
       "<p>5 rows × 342 columns</p>\n",
       "</div>"
      ],
      "text/plain": [
       "Coluna  V0101        UF  V0102  V0103  V0301    SEXO  V3031  V3032  V3033  \\\n",
       "0        2014  Rondônia     15      1      1   HOMEM     19      8   1987   \n",
       "1        2014  Rondônia     15      1      2  MULHER     19      1   1986   \n",
       "2        2014  Rondônia     15      1      3   HOMEM     14      5   2013   \n",
       "3        2014  Rondônia     15      2      1   HOMEM      8      4   1963   \n",
       "4        2014  Rondônia     15      2      2  MULHER      6     11   1970   \n",
       "\n",
       "Coluna  IDADE   ...    RENDA MENSAL  V4743  V4745  V4746  V4747  V4748  V4749  \\\n",
       "0          27   ...           500.0    3.0      3    1.0    2.0    2.0    1.0   \n",
       "1          28   ...           500.0    3.0      4    2.0    NaN    2.0    1.0   \n",
       "2           1   ...           500.0    3.0      1    NaN    NaN    NaN    NaN   \n",
       "3          51   ...          1150.0    4.0      2    1.0    2.0    2.0    1.0   \n",
       "4          43   ...          1150.0    4.0      3    1.0    2.0    2.0    1.0   \n",
       "\n",
       "Coluna   V4750     V9993  REGIAO  \n",
       "0        500.0  20160623     Sul  \n",
       "1        500.0  20160623     Sul  \n",
       "2        500.0  20160623     Sul  \n",
       "3       1150.0  20160623     Sul  \n",
       "4       1150.0  20160623     Sul  \n",
       "\n",
       "[5 rows x 342 columns]"
      ]
     },
     "execution_count": 15,
     "metadata": {},
     "output_type": "execute_result"
    }
   ],
   "source": [
    "'''Definindo descrição'''\n",
    "dados['APOSENTADO'] = dados['APOSENTADO'].cat.set_categories([\"Sim\",\"Não\"], rename=True)\n",
    "dados.UF = dados.UF.cat.set_categories(['Rondônia','Acre','Amazonas','Roraima','Pará','Amapá','Tocantins','Maranhão','Piauí','Ceará','Rio Grande do Norte','Paraíba','Pernambuco','Alagoas','Sergipe','Bahia','Minas Gerais','Espírito Santo','Rio de Janeiro','São Paulo','Paraná','Santa Catarina','Rio Grande do Sul','Mato Grosso do Sul','Mato Grosso','Goiás','Distrito Federal'], rename=True)\n",
    "dados.SEXO = dados.SEXO.cat.set_categories([\"HOMEM\",\"MULHER\"], rename=True)\n",
    "dados['Anos de estudo'] = dados['Anos de estudo'].cat.set_categories(['1 ano','2 anos','3 anos','4 anos','5 anos','6 anos','7 anos','8 anos','9 anos','10 anos','11 anos','12 anos','13 anos','14 anos','15 anos ou mais','Não determinados','Não aplicável'], rename=True)\n",
    "dados.head()"
   ]
  },
  {
   "cell_type": "code",
   "execution_count": 16,
   "metadata": {
    "collapsed": false
   },
   "outputs": [
    {
     "data": {
      "text/html": [
       "<div>\n",
       "<table border=\"1\" class=\"dataframe\">\n",
       "  <thead>\n",
       "    <tr style=\"text-align: right;\">\n",
       "      <th>Coluna</th>\n",
       "      <th>V0101</th>\n",
       "      <th>UF</th>\n",
       "      <th>V0102</th>\n",
       "      <th>V0103</th>\n",
       "      <th>V0301</th>\n",
       "      <th>SEXO</th>\n",
       "      <th>V3031</th>\n",
       "      <th>V3032</th>\n",
       "      <th>V3033</th>\n",
       "      <th>IDADE</th>\n",
       "      <th>...</th>\n",
       "      <th>RENDA MENSAL</th>\n",
       "      <th>V4743</th>\n",
       "      <th>V4745</th>\n",
       "      <th>V4746</th>\n",
       "      <th>V4747</th>\n",
       "      <th>V4748</th>\n",
       "      <th>V4749</th>\n",
       "      <th>V4750</th>\n",
       "      <th>V9993</th>\n",
       "      <th>REGIAO</th>\n",
       "    </tr>\n",
       "  </thead>\n",
       "  <tbody>\n",
       "    <tr>\n",
       "      <th>5</th>\n",
       "      <td>2014</td>\n",
       "      <td>Rondônia</td>\n",
       "      <td>15</td>\n",
       "      <td>3</td>\n",
       "      <td>1</td>\n",
       "      <td>MULHER</td>\n",
       "      <td>5</td>\n",
       "      <td>1</td>\n",
       "      <td>1937</td>\n",
       "      <td>77</td>\n",
       "      <td>...</td>\n",
       "      <td>724.0</td>\n",
       "      <td>3.0</td>\n",
       "      <td>2</td>\n",
       "      <td>2.0</td>\n",
       "      <td>NaN</td>\n",
       "      <td>NaN</td>\n",
       "      <td>2.0</td>\n",
       "      <td>724.0</td>\n",
       "      <td>20160623</td>\n",
       "      <td>Sul</td>\n",
       "    </tr>\n",
       "    <tr>\n",
       "      <th>11</th>\n",
       "      <td>2014</td>\n",
       "      <td>Rondônia</td>\n",
       "      <td>15</td>\n",
       "      <td>5</td>\n",
       "      <td>1</td>\n",
       "      <td>MULHER</td>\n",
       "      <td>13</td>\n",
       "      <td>7</td>\n",
       "      <td>1946</td>\n",
       "      <td>68</td>\n",
       "      <td>...</td>\n",
       "      <td>855.0</td>\n",
       "      <td>4.0</td>\n",
       "      <td>2</td>\n",
       "      <td>2.0</td>\n",
       "      <td>NaN</td>\n",
       "      <td>NaN</td>\n",
       "      <td>2.0</td>\n",
       "      <td>855.0</td>\n",
       "      <td>20160623</td>\n",
       "      <td>Sul</td>\n",
       "    </tr>\n",
       "    <tr>\n",
       "      <th>25</th>\n",
       "      <td>2014</td>\n",
       "      <td>Rondônia</td>\n",
       "      <td>15</td>\n",
       "      <td>10</td>\n",
       "      <td>1</td>\n",
       "      <td>HOMEM</td>\n",
       "      <td>15</td>\n",
       "      <td>10</td>\n",
       "      <td>1948</td>\n",
       "      <td>65</td>\n",
       "      <td>...</td>\n",
       "      <td>2362.0</td>\n",
       "      <td>6.0</td>\n",
       "      <td>2</td>\n",
       "      <td>1.0</td>\n",
       "      <td>1.0</td>\n",
       "      <td>1.0</td>\n",
       "      <td>1.0</td>\n",
       "      <td>2362.0</td>\n",
       "      <td>20160623</td>\n",
       "      <td>Sul</td>\n",
       "    </tr>\n",
       "    <tr>\n",
       "      <th>26</th>\n",
       "      <td>2014</td>\n",
       "      <td>Rondônia</td>\n",
       "      <td>15</td>\n",
       "      <td>10</td>\n",
       "      <td>2</td>\n",
       "      <td>MULHER</td>\n",
       "      <td>24</td>\n",
       "      <td>6</td>\n",
       "      <td>1952</td>\n",
       "      <td>62</td>\n",
       "      <td>...</td>\n",
       "      <td>2362.0</td>\n",
       "      <td>6.0</td>\n",
       "      <td>5</td>\n",
       "      <td>2.0</td>\n",
       "      <td>NaN</td>\n",
       "      <td>NaN</td>\n",
       "      <td>2.0</td>\n",
       "      <td>2362.0</td>\n",
       "      <td>20160623</td>\n",
       "      <td>Sul</td>\n",
       "    </tr>\n",
       "    <tr>\n",
       "      <th>51</th>\n",
       "      <td>2014</td>\n",
       "      <td>Rondônia</td>\n",
       "      <td>23</td>\n",
       "      <td>1</td>\n",
       "      <td>5</td>\n",
       "      <td>HOMEM</td>\n",
       "      <td>25</td>\n",
       "      <td>1</td>\n",
       "      <td>1924</td>\n",
       "      <td>90</td>\n",
       "      <td>...</td>\n",
       "      <td>444.0</td>\n",
       "      <td>3.0</td>\n",
       "      <td>1</td>\n",
       "      <td>2.0</td>\n",
       "      <td>NaN</td>\n",
       "      <td>NaN</td>\n",
       "      <td>2.0</td>\n",
       "      <td>444.0</td>\n",
       "      <td>20160623</td>\n",
       "      <td>Sul</td>\n",
       "    </tr>\n",
       "  </tbody>\n",
       "</table>\n",
       "<p>5 rows × 342 columns</p>\n",
       "</div>"
      ],
      "text/plain": [
       "Coluna  V0101        UF  V0102  V0103  V0301    SEXO  V3031  V3032  V3033  \\\n",
       "5        2014  Rondônia     15      3      1  MULHER      5      1   1937   \n",
       "11       2014  Rondônia     15      5      1  MULHER     13      7   1946   \n",
       "25       2014  Rondônia     15     10      1   HOMEM     15     10   1948   \n",
       "26       2014  Rondônia     15     10      2  MULHER     24      6   1952   \n",
       "51       2014  Rondônia     23      1      5   HOMEM     25      1   1924   \n",
       "\n",
       "Coluna  IDADE   ...    RENDA MENSAL  V4743  V4745  V4746  V4747  V4748  V4749  \\\n",
       "5          77   ...           724.0    3.0      2    2.0    NaN    NaN    2.0   \n",
       "11         68   ...           855.0    4.0      2    2.0    NaN    NaN    2.0   \n",
       "25         65   ...          2362.0    6.0      2    1.0    1.0    1.0    1.0   \n",
       "26         62   ...          2362.0    6.0      5    2.0    NaN    NaN    2.0   \n",
       "51         90   ...           444.0    3.0      1    2.0    NaN    NaN    2.0   \n",
       "\n",
       "Coluna   V4750     V9993  REGIAO  \n",
       "5        724.0  20160623     Sul  \n",
       "11       855.0  20160623     Sul  \n",
       "25      2362.0  20160623     Sul  \n",
       "26      2362.0  20160623     Sul  \n",
       "51       444.0  20160623     Sul  \n",
       "\n",
       "[5 rows x 342 columns]"
      ]
     },
     "execution_count": 16,
     "metadata": {},
     "output_type": "execute_result"
    }
   ],
   "source": [
    "dados_aposentados = dados[(dados.APOSENTADO == \"Sim\") & (dados.IDADE >= 20) & (dados['APOSENTADORIA'] != 999999999999) & (~dados['APOSENTADORIA'].isnull()) & (dados['Anos de estudo'] != \"Não determinados\") & (~dados['Anos de estudo'].isnull()) ]\n",
    "dados_aposentados.head()"
   ]
  },
  {
   "cell_type": "code",
   "execution_count": 17,
   "metadata": {
    "collapsed": false
   },
   "outputs": [],
   "source": [
    "faixas = np.arange(500,3000,100)\n",
    "#print (aposentadoria)\n",
    "aposentadoria_disc = pd.cut(dados['APOSENTADORIA'], bins=faixas)"
   ]
  },
  {
   "cell_type": "markdown",
   "metadata": {},
   "source": [
    "Neste gráfico podemos ver que o histograma da aposentadoria"
   ]
  },
  {
   "cell_type": "code",
   "execution_count": 18,
   "metadata": {
    "collapsed": false
   },
   "outputs": [
    {
     "data": {
      "text/plain": [
       "<matplotlib.axes._subplots.AxesSubplot at 0x1ac814688d0>"
      ]
     },
     "execution_count": 18,
     "metadata": {},
     "output_type": "execute_result"
    },
    {
     "data": {
      "image/png": "[encoded data removed]",
      "text/plain": [
       "<matplotlib.figure.Figure at 0x1ac814634e0>"
      ]
     },
     "metadata": {},
     "output_type": "display_data"
    }
   ],
   "source": [
    "dados_aposentados['APOSENTADORIA'].plot.hist(bins=faixas,normed=1, figsize =(10,10),stacked=True)\n"
   ]
  },
  {
   "cell_type": "code",
   "execution_count": 19,
   "metadata": {
    "collapsed": false
   },
   "outputs": [
    {
     "data": {
      "text/plain": [
       "1 ano               28.479664\n",
       "5 anos              17.358171\n",
       "12 anos             12.613507\n",
       "9 anos               8.017752\n",
       "4 anos               7.477591\n",
       "3 anos               6.350550\n",
       "6 anos               6.224999\n",
       "2 anos               3.962159\n",
       "7 anos               2.721247\n",
       "13 anos              1.798593\n",
       "8 anos               1.570849\n",
       "15 anos ou mais      1.051126\n",
       "11 anos              0.989810\n",
       "14 anos              0.680312\n",
       "10 anos              0.630675\n",
       "Não aplicável        0.072995\n",
       "Não determinados     0.000000\n",
       "Name: Anos de estudo, dtype: float64"
      ]
     },
     "execution_count": 19,
     "metadata": {},
     "output_type": "execute_result"
    }
   ],
   "source": [
    "dados_aposentados['Anos de estudo'].value_counts(True)*100"
   ]
  },
  {
   "cell_type": "code",
   "execution_count": 20,
   "metadata": {
    "collapsed": false
   },
   "outputs": [],
   "source": [
    "aposentadoriaXestudo = pd.crosstab(dados_aposentados['Anos de estudo'],aposentadoria_disc)"
   ]
  },
  {
   "cell_type": "code",
   "execution_count": 21,
   "metadata": {
    "collapsed": false
   },
   "outputs": [],
   "source": [
    "#aposentadoriaXestudo.plot.barh(legend=True, figsize=(100,100),stacked=True)\n",
    "porcentagem_aposentadoria = aposentadoria_disc.value_counts(True)*100\n"
   ]
  },
  {
   "cell_type": "markdown",
   "metadata": {},
   "source": [
    "Filtrando, peguei apenas a população que recebe menos de R$1500 e do sexo masculino para analisar os homens que recebem menos"
   ]
  },
  {
   "cell_type": "code",
   "execution_count": 32,
   "metadata": {
    "collapsed": false
   },
   "outputs": [
    {
     "data": {
      "text/plain": [
       "<matplotlib.axes._subplots.AxesSubplot at 0x1ac810355f8>"
      ]
     },
     "execution_count": 32,
     "metadata": {},
     "output_type": "execute_result"
    },
    {
     "data": {
      "image/png": "[encoded data removed]",
      "text/plain": [
       "<matplotlib.figure.Figure at 0x1ac81082dd8>"
      ]
     },
     "metadata": {},
     "output_type": "display_data"
    }
   ],
   "source": [
    "dados_aposentados_homens_pobres = dados_aposentados[(dados_aposentados[\"APOSENTADORIA\"] <= 1500) & (dados_aposentados[\"SEXO\"] == \"HOMEM\")]\n",
    "pobres_h_poc = dados_aposentados_homens_pobres[\"Anos de estudo\"].value_counts(True)*100\n",
    "#print(pobres_h_poc)\n",
    "pobres_h_poc.plot.bar()"
   ]
  },
  {
   "cell_type": "markdown",
   "metadata": {},
   "source": [
    "Filtrando, peguei apenas a população que recebe mais de R$1500 e do sexo masculino para analisar os homens que recebem menos."
   ]
  },
  {
   "cell_type": "code",
   "execution_count": 35,
   "metadata": {
    "collapsed": false
   },
   "outputs": [
    {
     "data": {
      "text/plain": [
       "<matplotlib.axes._subplots.AxesSubplot at 0x1ac8121f1d0>"
      ]
     },
     "execution_count": 35,
     "metadata": {},
     "output_type": "execute_result"
    },
    {
     "data": {
      "image/png": "[encoded data removed]",
      "text/plain": [
       "<matplotlib.figure.Figure at 0x1ac811133c8>"
      ]
     },
     "metadata": {},
     "output_type": "display_data"
    }
   ],
   "source": [
    "dados_aposentados_homens_ricos = dados_aposentados[(dados_aposentados[\"APOSENTADORIA\"] > 1500) & (dados_aposentados[\"SEXO\"] == \"HOMEM\")]\n",
    "\n",
    "pobres_h_poc = dados_aposentados_homens_ricos[\"Anos de estudo\"].value_counts(True)*100\n",
    "#print(pobres_h_poc)\n",
    "pobres_h_poc.plot.bar()"
   ]
  },
  {
   "cell_type": "markdown",
   "metadata": {},
   "source": [
    "Filtrando, peguei apenas a população que recebe menos de R$1500 e do sexo feminino para analisar as mulheres que recebem menos."
   ]
  },
  {
   "cell_type": "code",
   "execution_count": 42,
   "metadata": {
    "collapsed": false
   },
   "outputs": [
    {
     "data": {
      "text/plain": [
       "<matplotlib.axes._subplots.AxesSubplot at 0x1ac863e0908>"
      ]
     },
     "execution_count": 42,
     "metadata": {},
     "output_type": "execute_result"
    },
    {
     "data": {
      "image/png": "[encoded data removed]",
      "text/plain": [
       "<matplotlib.figure.Figure at 0x1ac8280f240>"
      ]
     },
     "metadata": {},
     "output_type": "display_data"
    }
   ],
   "source": [
    "dados_aposentados_mulheres_pobres = dados_aposentados[(dados_aposentados[\"APOSENTADORIA\"] <= 1500) & (dados_aposentados[\"SEXO\"] == \"MULHER\")]\n",
    "\n",
    "pobres_m_poc = dados_aposentados_mulheres_pobres[\"Anos de estudo\"].value_counts(True)*100\n",
    "#print(pobres_m_poc)\n",
    "pobres_m_poc.plot.bar()"
   ]
  },
  {
   "cell_type": "markdown",
   "metadata": {},
   "source": [
    "Filtrando, peguei apenas a população que recebe mais de R$1500 e do sexo feminino para analisar as mulheres que recebem mais."
   ]
  },
  {
   "cell_type": "code",
   "execution_count": 41,
   "metadata": {
    "collapsed": false
   },
   "outputs": [
    {
     "data": {
      "text/plain": [
       "<matplotlib.axes._subplots.AxesSubplot at 0x1ac86348208>"
      ]
     },
     "execution_count": 41,
     "metadata": {},
     "output_type": "execute_result"
    },
    {
     "data": {
      "image/png": "[encoded data removed]",
      "text/plain": [
       "<matplotlib.figure.Figure at 0x1ac82797cf8>"
      ]
     },
     "metadata": {},
     "output_type": "display_data"
    }
   ],
   "source": [
    "dados_aposentados_mulheres_ricos = dados_aposentados[(dados_aposentados[\"APOSENTADORIA\"] > 1500) & (dados_aposentados[\"SEXO\"] == \"MULHER\")]\n",
    "\n",
    "pobres_m_poc = dados_aposentados_mulheres_ricos[\"Anos de estudo\"].value_counts(True)*100\n",
    "#print(pobres_m_poc)\n",
    "pobres_m_poc.plot.bar()"
   ]
  },
  {
   "cell_type": "markdown",
   "metadata": {
    "collapsed": false
   },
   "source": [
    "___\n",
    "## Conclusão "
   ]
  },
  {
   "cell_type": "markdown",
   "metadata": {
    "collapsed": true
   },
   "source": [
    "Analisando os graficos vemos que a maioria das pessoas (tanto homens como mulheres) que recebem até 1500 reais de aposentadoria estudou apenas 1 ao ao longo da vida, ja as pessoas que ganham mais de 1500 reais a maioria estudou pelo menos 12 anos."
   ]
  }
 ],
 "metadata": {
  "anaconda-cloud": {},
  "kernelspec": {
   "display_name": "Python 3",
   "language": "python",
   "name": "python3"
  },
  "language_info": {
   "codemirror_mode": {
    "name": "ipython",
    "version": 3
   },
   "file_extension": ".py",
   "mimetype": "text/x-python",
   "name": "python",
   "nbconvert_exporter": "python",
   "pygments_lexer": "ipython3",
   "version": "3.5.2"
  }
 },
 "nbformat": 4,
 "nbformat_minor": 0
}
